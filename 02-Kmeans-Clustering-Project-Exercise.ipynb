{
 "cells":[
  {
   "cell_type":"markdown",
   "source":[
    "___\n",
    "\n",
    "<a href='http:\/\/www.pieriandata.com'><img src='..\/Pierian_Data_Logo.png'\/><\/a>\n",
    "___\n",
    "<center><em>Copyright by Pierian Data Inc.<\/em><\/center>\n",
    "<center><em>For more information, visit us at <a href='http:\/\/www.pieriandata.com'>www.pieriandata.com<\/a><\/em><\/center>"
   ],
   "attachments":{
    
   },
   "metadata":{
    "datalore":{
     "node_id":"K7vTrMzi5i8jeaoDL9EkWD",
     "type":"MD",
     "hide_input_from_viewers":false,
     "hide_output_from_viewers":false,
     "report_properties":{
      "rowId":"y4IkLxfaHCtawfjjgaH7q8"
     }
    }
   }
  },
  {
   "cell_type":"markdown",
   "source":[
    "# CIA Country Analysis and Clustering\n",
    "\n",
    "\n",
    "Source: All these data sets are made up of data from the US government. \n",
    "https:\/\/www.cia.gov\/library\/publications\/the-world-factbook\/docs\/faqs.html\n",
    "\n",
    "## Goal: \n",
    "\n",
    "### Gain insights into similarity between countries and regions of the world by experimenting with different cluster amounts. What do these clusters represent? *Note: There is no 100% right answer, make sure to watch the video for thoughts.*\n",
    "\n",
    "----\n",
    "\n",
    "## Imports and Data\n",
    "\n",
    "**TASK: Run the following cells to import libraries and read in data.**"
   ],
   "attachments":{
    
   },
   "metadata":{
    "datalore":{
     "node_id":"70GmxNuloyr0IgnE53OKJs",
     "type":"MD",
     "hide_input_from_viewers":false,
     "hide_output_from_viewers":false,
     "report_properties":{
      "rowId":"H6voWlHNlYqRrXLBla8xDp"
     }
    }
   }
  },
  {
   "cell_type":"code",
   "source":[
    "import numpy as np\n",
    "import pandas as pd\n",
    "import matplotlib.pyplot as plt\n",
    "import seaborn as sns"
   ],
   "execution_count":399,
   "outputs":[
    
   ],
   "metadata":{
    "datalore":{
     "node_id":"JB6RJSInuZhvYgPH2bDbRY",
     "type":"CODE",
     "hide_input_from_viewers":false,
     "hide_output_from_viewers":false,
     "report_properties":{
      "rowId":"f1Iobq12lg6X1FqDgVDMO1"
     }
    }
   }
  },
  {
   "cell_type":"code",
   "source":[
    "df = pd.read_csv('CIA_Country_Facts.csv')"
   ],
   "execution_count":400,
   "outputs":[
    
   ],
   "metadata":{
    "datalore":{
     "node_id":"ZAojyKXmzhvGiz2cyDhLYt",
     "type":"CODE",
     "hide_input_from_viewers":false,
     "hide_output_from_viewers":false,
     "report_properties":{
      "rowId":"19lnTCgto6Uq6ysWYPlngi"
     }
    }
   }
  },
  {
   "cell_type":"markdown",
   "source":[
    "## Exploratory Data Analysis\n",
    "\n",
    "**TASK: Explore the rows and columns of the data as well as the data types of the columns.**"
   ],
   "attachments":{
    
   },
   "metadata":{
    "datalore":{
     "node_id":"SCkImUdEwhppgnqhggAFG8",
     "type":"MD",
     "hide_input_from_viewers":false,
     "hide_output_from_viewers":false,
     "report_properties":{
      "rowId":"GCZUAICi8paqCuCh0uukWB"
     }
    }
   }
  },
  {
   "cell_type":"code",
   "source":[
    "len(df)"
   ],
   "execution_count":401,
   "outputs":[
    {
     "data":{
      "text\/plain":[
       "227"
      ]
     },
     "metadata":{
      
     },
     "output_type":"display_data"
    }
   ],
   "metadata":{
    "datalore":{
     "node_id":"NyBQW1Yd1KHB6QyLb4EXI0",
     "type":"CODE",
     "hide_input_from_viewers":true,
     "hide_output_from_viewers":true
    }
   }
  },
  {
   "cell_type":"code",
   "source":[
    "df.head()"
   ],
   "execution_count":402,
   "outputs":[
    {
     "data":{
      "text\/html":[
       "<div>\n",
       "<style scoped>\n",
       "    .dataframe tbody tr th:only-of-type {\n",
       "        vertical-align: middle;\n",
       "    }\n",
       "\n",
       "    .dataframe tbody tr th {\n",
       "        vertical-align: top;\n",
       "    }\n",
       "\n",
       "    .dataframe thead th {\n",
       "        text-align: right;\n",
       "    }\n",
       "<\/style>\n",
       "<table border=\"1\" class=\"dataframe\">\n",
       "  <thead>\n",
       "    <tr style=\"text-align: right;\">\n",
       "      <th><\/th>\n",
       "      <th>Country<\/th>\n",
       "      <th>Region<\/th>\n",
       "      <th>Population<\/th>\n",
       "      <th>Area (sq. mi.)<\/th>\n",
       "      <th>Pop. Density (per sq. mi.)<\/th>\n",
       "      <th>Coastline (coast\/area ratio)<\/th>\n",
       "      <th>Net migration<\/th>\n",
       "      <th>Infant mortality (per 1000 births)<\/th>\n",
       "      <th>GDP ($ per capita)<\/th>\n",
       "      <th>Literacy (%)<\/th>\n",
       "      <th>Phones (per 1000)<\/th>\n",
       "      <th>Arable (%)<\/th>\n",
       "      <th>Crops (%)<\/th>\n",
       "      <th>Other (%)<\/th>\n",
       "      <th>Climate<\/th>\n",
       "      <th>Birthrate<\/th>\n",
       "      <th>Deathrate<\/th>\n",
       "      <th>Agriculture<\/th>\n",
       "      <th>Industry<\/th>\n",
       "      <th>Service<\/th>\n",
       "    <\/tr>\n",
       "  <\/thead>\n",
       "  <tbody>\n",
       "    <tr>\n",
       "      <th>0<\/th>\n",
       "      <td>Afghanistan<\/td>\n",
       "      <td>ASIA (EX. NEAR EAST)<\/td>\n",
       "      <td>31056997<\/td>\n",
       "      <td>647500<\/td>\n",
       "      <td>48.0<\/td>\n",
       "      <td>0.00<\/td>\n",
       "      <td>23.06<\/td>\n",
       "      <td>163.07<\/td>\n",
       "      <td>700.0<\/td>\n",
       "      <td>36.0<\/td>\n",
       "      <td>3.2<\/td>\n",
       "      <td>12.13<\/td>\n",
       "      <td>0.22<\/td>\n",
       "      <td>87.65<\/td>\n",
       "      <td>1.0<\/td>\n",
       "      <td>46.60<\/td>\n",
       "      <td>20.34<\/td>\n",
       "      <td>0.380<\/td>\n",
       "      <td>0.240<\/td>\n",
       "      <td>0.380<\/td>\n",
       "    <\/tr>\n",
       "    <tr>\n",
       "      <th>1<\/th>\n",
       "      <td>Albania<\/td>\n",
       "      <td>EASTERN EUROPE<\/td>\n",
       "      <td>3581655<\/td>\n",
       "      <td>28748<\/td>\n",
       "      <td>124.6<\/td>\n",
       "      <td>1.26<\/td>\n",
       "      <td>-4.93<\/td>\n",
       "      <td>21.52<\/td>\n",
       "      <td>4500.0<\/td>\n",
       "      <td>86.5<\/td>\n",
       "      <td>71.2<\/td>\n",
       "      <td>21.09<\/td>\n",
       "      <td>4.42<\/td>\n",
       "      <td>74.49<\/td>\n",
       "      <td>3.0<\/td>\n",
       "      <td>15.11<\/td>\n",
       "      <td>5.22<\/td>\n",
       "      <td>0.232<\/td>\n",
       "      <td>0.188<\/td>\n",
       "      <td>0.579<\/td>\n",
       "    <\/tr>\n",
       "    <tr>\n",
       "      <th>2<\/th>\n",
       "      <td>Algeria<\/td>\n",
       "      <td>NORTHERN AFRICA<\/td>\n",
       "      <td>32930091<\/td>\n",
       "      <td>2381740<\/td>\n",
       "      <td>13.8<\/td>\n",
       "      <td>0.04<\/td>\n",
       "      <td>-0.39<\/td>\n",
       "      <td>31.00<\/td>\n",
       "      <td>6000.0<\/td>\n",
       "      <td>70.0<\/td>\n",
       "      <td>78.1<\/td>\n",
       "      <td>3.22<\/td>\n",
       "      <td>0.25<\/td>\n",
       "      <td>96.53<\/td>\n",
       "      <td>1.0<\/td>\n",
       "      <td>17.14<\/td>\n",
       "      <td>4.61<\/td>\n",
       "      <td>0.101<\/td>\n",
       "      <td>0.600<\/td>\n",
       "      <td>0.298<\/td>\n",
       "    <\/tr>\n",
       "    <tr>\n",
       "      <th>3<\/th>\n",
       "      <td>American Samoa<\/td>\n",
       "      <td>OCEANIA<\/td>\n",
       "      <td>57794<\/td>\n",
       "      <td>199<\/td>\n",
       "      <td>290.4<\/td>\n",
       "      <td>58.29<\/td>\n",
       "      <td>-20.71<\/td>\n",
       "      <td>9.27<\/td>\n",
       "      <td>8000.0<\/td>\n",
       "      <td>97.0<\/td>\n",
       "      <td>259.5<\/td>\n",
       "      <td>10.00<\/td>\n",
       "      <td>15.00<\/td>\n",
       "      <td>75.00<\/td>\n",
       "      <td>2.0<\/td>\n",
       "      <td>22.46<\/td>\n",
       "      <td>3.27<\/td>\n",
       "      <td>NaN<\/td>\n",
       "      <td>NaN<\/td>\n",
       "      <td>NaN<\/td>\n",
       "    <\/tr>\n",
       "    <tr>\n",
       "      <th>4<\/th>\n",
       "      <td>Andorra<\/td>\n",
       "      <td>WESTERN EUROPE<\/td>\n",
       "      <td>71201<\/td>\n",
       "      <td>468<\/td>\n",
       "      <td>152.1<\/td>\n",
       "      <td>0.00<\/td>\n",
       "      <td>6.60<\/td>\n",
       "      <td>4.05<\/td>\n",
       "      <td>19000.0<\/td>\n",
       "      <td>100.0<\/td>\n",
       "      <td>497.2<\/td>\n",
       "      <td>2.22<\/td>\n",
       "      <td>0.00<\/td>\n",
       "      <td>97.78<\/td>\n",
       "      <td>3.0<\/td>\n",
       "      <td>8.71<\/td>\n",
       "      <td>6.25<\/td>\n",
       "      <td>NaN<\/td>\n",
       "      <td>NaN<\/td>\n",
       "      <td>NaN<\/td>\n",
       "    <\/tr>\n",
       "  <\/tbody>\n",
       "<\/table>\n",
       "<\/div>"
      ]
     },
     "metadata":{
      
     },
     "output_type":"display_data"
    }
   ],
   "metadata":{
    "datalore":{
     "node_id":"0NIRGSr5I0b96maVEf1kW4",
     "type":"CODE",
     "hide_input_from_viewers":false,
     "hide_output_from_viewers":false,
     "report_properties":{
      "rowId":"etrVndv8aIoa0WHY9ixH23"
     }
    }
   }
  },
  {
   "cell_type":"code",
   "source":[
    "df.info()"
   ],
   "execution_count":403,
   "outputs":[
    {
     "name":"stdout",
     "text":[
      "<class 'pandas.core.frame.DataFrame'>\n",
      "RangeIndex: 227 entries, 0 to 226\n",
      "Data columns (total 20 columns):\n",
      " #   Column                              Non-Null Count  Dtype  \n",
      "---  ------                              --------------  -----  \n",
      " 0   Country                             227 non-null    object \n",
      " 1   Region                              227 non-null    object \n",
      " 2   Population                          227 non-null    int64  \n",
      " 3   Area (sq. mi.)                      227 non-null    int64  \n",
      " 4   Pop. Density (per sq. mi.)          227 non-null    float64\n",
      " 5   Coastline (coast\/area ratio)        227 non-null    float64\n",
      " 6   Net migration                       224 non-null    float64\n",
      " 7   Infant mortality (per 1000 births)  224 non-null    float64\n",
      " 8   GDP ($ per capita)                  226 non-null    float64\n",
      " 9   Literacy (%)                        209 non-null    float64\n",
      " 10  Phones (per 1000)                   223 non-null    float64\n",
      " 11  Arable (%)                          225 non-null    float64\n",
      " 12  Crops (%)                           225 non-null    float64\n",
      " 13  Other (%)                           225 non-null    float64\n",
      " 14  Climate                             205 non-null    float64\n",
      " 15  Birthrate                           224 non-null    float64\n",
      " 16  Deathrate                           223 non-null    float64\n",
      " 17  Agriculture                         212 non-null    float64\n",
      " 18  Industry                            211 non-null    float64\n",
      " 19  Service                             212 non-null    float64\n",
      "dtypes: float64(16), int64(2), object(2)\n",
      "memory usage: 35.6+ KB\n"
     ],
     "output_type":"stream"
    }
   ],
   "metadata":{
    "datalore":{
     "node_id":"IHSBDyPiwrXpRb1jFMPC3E",
     "type":"CODE",
     "hide_input_from_viewers":true,
     "hide_output_from_viewers":true
    }
   }
  },
  {
   "cell_type":"code",
   "source":[
    "df.describe().transpose()"
   ],
   "execution_count":404,
   "outputs":[
    {
     "data":{
      "text\/html":[
       "<div>\n",
       "<style scoped>\n",
       "    .dataframe tbody tr th:only-of-type {\n",
       "        vertical-align: middle;\n",
       "    }\n",
       "\n",
       "    .dataframe tbody tr th {\n",
       "        vertical-align: top;\n",
       "    }\n",
       "\n",
       "    .dataframe thead th {\n",
       "        text-align: right;\n",
       "    }\n",
       "<\/style>\n",
       "<table border=\"1\" class=\"dataframe\">\n",
       "  <thead>\n",
       "    <tr style=\"text-align: right;\">\n",
       "      <th><\/th>\n",
       "      <th>count<\/th>\n",
       "      <th>mean<\/th>\n",
       "      <th>std<\/th>\n",
       "      <th>min<\/th>\n",
       "      <th>25%<\/th>\n",
       "      <th>50%<\/th>\n",
       "      <th>75%<\/th>\n",
       "      <th>max<\/th>\n",
       "    <\/tr>\n",
       "  <\/thead>\n",
       "  <tbody>\n",
       "    <tr>\n",
       "      <th>Population<\/th>\n",
       "      <td>227.0<\/td>\n",
       "      <td>2.874028e+07<\/td>\n",
       "      <td>1.178913e+08<\/td>\n",
       "      <td>7026.000<\/td>\n",
       "      <td>437624.00000<\/td>\n",
       "      <td>4786994.000<\/td>\n",
       "      <td>1.749777e+07<\/td>\n",
       "      <td>1.313974e+09<\/td>\n",
       "    <\/tr>\n",
       "    <tr>\n",
       "      <th>Area (sq. mi.)<\/th>\n",
       "      <td>227.0<\/td>\n",
       "      <td>5.982270e+05<\/td>\n",
       "      <td>1.790282e+06<\/td>\n",
       "      <td>2.000<\/td>\n",
       "      <td>4647.50000<\/td>\n",
       "      <td>86600.000<\/td>\n",
       "      <td>4.418110e+05<\/td>\n",
       "      <td>1.707520e+07<\/td>\n",
       "    <\/tr>\n",
       "    <tr>\n",
       "      <th>Pop. Density (per sq. mi.)<\/th>\n",
       "      <td>227.0<\/td>\n",
       "      <td>3.790471e+02<\/td>\n",
       "      <td>1.660186e+03<\/td>\n",
       "      <td>0.000<\/td>\n",
       "      <td>29.15000<\/td>\n",
       "      <td>78.800<\/td>\n",
       "      <td>1.901500e+02<\/td>\n",
       "      <td>1.627150e+04<\/td>\n",
       "    <\/tr>\n",
       "    <tr>\n",
       "      <th>Coastline (coast\/area ratio)<\/th>\n",
       "      <td>227.0<\/td>\n",
       "      <td>2.116533e+01<\/td>\n",
       "      <td>7.228686e+01<\/td>\n",
       "      <td>0.000<\/td>\n",
       "      <td>0.10000<\/td>\n",
       "      <td>0.730<\/td>\n",
       "      <td>1.034500e+01<\/td>\n",
       "      <td>8.706600e+02<\/td>\n",
       "    <\/tr>\n",
       "    <tr>\n",
       "      <th>Net migration<\/th>\n",
       "      <td>224.0<\/td>\n",
       "      <td>3.812500e-02<\/td>\n",
       "      <td>4.889269e+00<\/td>\n",
       "      <td>-20.990<\/td>\n",
       "      <td>-0.92750<\/td>\n",
       "      <td>0.000<\/td>\n",
       "      <td>9.975000e-01<\/td>\n",
       "      <td>2.306000e+01<\/td>\n",
       "    <\/tr>\n",
       "    <tr>\n",
       "      <th>Infant mortality (per 1000 births)<\/th>\n",
       "      <td>224.0<\/td>\n",
       "      <td>3.550696e+01<\/td>\n",
       "      <td>3.538990e+01<\/td>\n",
       "      <td>2.290<\/td>\n",
       "      <td>8.15000<\/td>\n",
       "      <td>21.000<\/td>\n",
       "      <td>5.570500e+01<\/td>\n",
       "      <td>1.911900e+02<\/td>\n",
       "    <\/tr>\n",
       "    <tr>\n",
       "      <th>GDP ($ per capita)<\/th>\n",
       "      <td>226.0<\/td>\n",
       "      <td>9.689823e+03<\/td>\n",
       "      <td>1.004914e+04<\/td>\n",
       "      <td>500.000<\/td>\n",
       "      <td>1900.00000<\/td>\n",
       "      <td>5550.000<\/td>\n",
       "      <td>1.570000e+04<\/td>\n",
       "      <td>5.510000e+04<\/td>\n",
       "    <\/tr>\n",
       "    <tr>\n",
       "      <th>Literacy (%)<\/th>\n",
       "      <td>209.0<\/td>\n",
       "      <td>8.283828e+01<\/td>\n",
       "      <td>1.972217e+01<\/td>\n",
       "      <td>17.600<\/td>\n",
       "      <td>70.60000<\/td>\n",
       "      <td>92.500<\/td>\n",
       "      <td>9.800000e+01<\/td>\n",
       "      <td>1.000000e+02<\/td>\n",
       "    <\/tr>\n",
       "    <tr>\n",
       "      <th>Phones (per 1000)<\/th>\n",
       "      <td>223.0<\/td>\n",
       "      <td>2.360614e+02<\/td>\n",
       "      <td>2.279918e+02<\/td>\n",
       "      <td>0.200<\/td>\n",
       "      <td>37.80000<\/td>\n",
       "      <td>176.200<\/td>\n",
       "      <td>3.896500e+02<\/td>\n",
       "      <td>1.035600e+03<\/td>\n",
       "    <\/tr>\n",
       "    <tr>\n",
       "      <th>Arable (%)<\/th>\n",
       "      <td>225.0<\/td>\n",
       "      <td>1.379711e+01<\/td>\n",
       "      <td>1.304040e+01<\/td>\n",
       "      <td>0.000<\/td>\n",
       "      <td>3.22000<\/td>\n",
       "      <td>10.420<\/td>\n",
       "      <td>2.000000e+01<\/td>\n",
       "      <td>6.211000e+01<\/td>\n",
       "    <\/tr>\n",
       "    <tr>\n",
       "      <th>Crops (%)<\/th>\n",
       "      <td>225.0<\/td>\n",
       "      <td>4.564222e+00<\/td>\n",
       "      <td>8.361470e+00<\/td>\n",
       "      <td>0.000<\/td>\n",
       "      <td>0.19000<\/td>\n",
       "      <td>1.030<\/td>\n",
       "      <td>4.440000e+00<\/td>\n",
       "      <td>5.068000e+01<\/td>\n",
       "    <\/tr>\n",
       "    <tr>\n",
       "      <th>Other (%)<\/th>\n",
       "      <td>225.0<\/td>\n",
       "      <td>8.163831e+01<\/td>\n",
       "      <td>1.614083e+01<\/td>\n",
       "      <td>33.330<\/td>\n",
       "      <td>71.65000<\/td>\n",
       "      <td>85.700<\/td>\n",
       "      <td>9.544000e+01<\/td>\n",
       "      <td>1.000000e+02<\/td>\n",
       "    <\/tr>\n",
       "    <tr>\n",
       "      <th>Climate<\/th>\n",
       "      <td>205.0<\/td>\n",
       "      <td>2.139024e+00<\/td>\n",
       "      <td>6.993968e-01<\/td>\n",
       "      <td>1.000<\/td>\n",
       "      <td>2.00000<\/td>\n",
       "      <td>2.000<\/td>\n",
       "      <td>3.000000e+00<\/td>\n",
       "      <td>4.000000e+00<\/td>\n",
       "    <\/tr>\n",
       "    <tr>\n",
       "      <th>Birthrate<\/th>\n",
       "      <td>224.0<\/td>\n",
       "      <td>2.211473e+01<\/td>\n",
       "      <td>1.117672e+01<\/td>\n",
       "      <td>7.290<\/td>\n",
       "      <td>12.67250<\/td>\n",
       "      <td>18.790<\/td>\n",
       "      <td>2.982000e+01<\/td>\n",
       "      <td>5.073000e+01<\/td>\n",
       "    <\/tr>\n",
       "    <tr>\n",
       "      <th>Deathrate<\/th>\n",
       "      <td>223.0<\/td>\n",
       "      <td>9.241345e+00<\/td>\n",
       "      <td>4.990026e+00<\/td>\n",
       "      <td>2.290<\/td>\n",
       "      <td>5.91000<\/td>\n",
       "      <td>7.840<\/td>\n",
       "      <td>1.060500e+01<\/td>\n",
       "      <td>2.974000e+01<\/td>\n",
       "    <\/tr>\n",
       "    <tr>\n",
       "      <th>Agriculture<\/th>\n",
       "      <td>212.0<\/td>\n",
       "      <td>1.508443e-01<\/td>\n",
       "      <td>1.467980e-01<\/td>\n",
       "      <td>0.000<\/td>\n",
       "      <td>0.03775<\/td>\n",
       "      <td>0.099<\/td>\n",
       "      <td>2.210000e-01<\/td>\n",
       "      <td>7.690000e-01<\/td>\n",
       "    <\/tr>\n",
       "    <tr>\n",
       "      <th>Industry<\/th>\n",
       "      <td>211.0<\/td>\n",
       "      <td>2.827109e-01<\/td>\n",
       "      <td>1.382722e-01<\/td>\n",
       "      <td>0.020<\/td>\n",
       "      <td>0.19300<\/td>\n",
       "      <td>0.272<\/td>\n",
       "      <td>3.410000e-01<\/td>\n",
       "      <td>9.060000e-01<\/td>\n",
       "    <\/tr>\n",
       "    <tr>\n",
       "      <th>Service<\/th>\n",
       "      <td>212.0<\/td>\n",
       "      <td>5.652830e-01<\/td>\n",
       "      <td>1.658410e-01<\/td>\n",
       "      <td>0.062<\/td>\n",
       "      <td>0.42925<\/td>\n",
       "      <td>0.571<\/td>\n",
       "      <td>6.785000e-01<\/td>\n",
       "      <td>9.540000e-01<\/td>\n",
       "    <\/tr>\n",
       "  <\/tbody>\n",
       "<\/table>\n",
       "<\/div>"
      ]
     },
     "metadata":{
      
     },
     "output_type":"display_data"
    }
   ],
   "metadata":{
    "datalore":{
     "node_id":"fRF7oGai3bxdwdyKNTuK5e",
     "type":"CODE",
     "hide_input_from_viewers":true,
     "hide_output_from_viewers":true
    }
   }
  },
  {
   "cell_type":"markdown",
   "source":[
    "# Exploratory Data Analysis\n",
    "\n",
    "Let's create some visualizations. Please feel free to expand on these with your own analysis and charts!"
   ],
   "attachments":{
    
   },
   "metadata":{
    "datalore":{
     "node_id":"yiyxEv4E23lq3iGJ3O6L4o",
     "type":"MD",
     "hide_input_from_viewers":false,
     "hide_output_from_viewers":false,
     "report_properties":{
      "rowId":"225DUz2GfcoMm7Np6xUYF0"
     }
    }
   }
  },
  {
   "cell_type":"markdown",
   "source":[
    "**TASK: Create a histogram of the Population column.**"
   ],
   "attachments":{
    
   },
   "metadata":{
    "datalore":{
     "node_id":"6PAAqkCC0LnxkEAH8KLBKt",
     "type":"MD",
     "hide_input_from_viewers":false,
     "hide_output_from_viewers":false,
     "report_properties":{
      "rowId":"caLHEHpUSXiTOm9rxMVqYP"
     }
    }
   }
  },
  {
   "cell_type":"code",
   "source":[
    "sns.histplot(data=df, x='Population')"
   ],
   "execution_count":405,
   "outputs":[
    {
     "data":{
      "text\/plain":[
       "<Axes: xlabel='Population', ylabel='Count'>"
      ]
     },
     "metadata":{
      
     },
     "output_type":"display_data"
    },
    {
     "data":{
      "image\/png":"[encoded data removed]"
     },
     "metadata":{
      "image\/png":{
       
      }
     },
     "output_type":"display_data"
    }
   ],
   "metadata":{
    "datalore":{
     "node_id":"dJEIcfFJlAIAjHwPGLVjwR",
     "type":"CODE",
     "hide_input_from_viewers":false,
     "hide_output_from_viewers":false,
     "report_properties":{
      "rowId":"13lJhyU4sbuYrucVfB9Zx3"
     }
    }
   }
  },
  {
   "cell_type":"markdown",
   "source":[
    "**TASK: You should notice the histogram is skewed due to a few large countries, reset the X axis to only show countries with less than 0.5 billion people**"
   ],
   "attachments":{
    
   },
   "metadata":{
    "datalore":{
     "node_id":"3N7zg6OzvqKndJz5L6DZNo",
     "type":"MD",
     "hide_input_from_viewers":false,
     "hide_output_from_viewers":false,
     "report_properties":{
      "rowId":"1JSWLg8d4wfn7Z0Dcz5ima"
     }
    }
   }
  },
  {
   "cell_type":"code",
   "source":[
    "sns.histplot(data=df, x='Population')\n",
    "plt.xlim(0, 3e+08)"
   ],
   "execution_count":406,
   "outputs":[
    {
     "data":{
      "text\/plain":[
       "(0.0, 300000000.0)"
      ]
     },
     "metadata":{
      
     },
     "output_type":"display_data"
    },
    {
     "data":{
      "image\/png":"[encoded data removed]"
     },
     "metadata":{
      "image\/png":{
       
      }
     },
     "output_type":"display_data"
    }
   ],
   "metadata":{
    "datalore":{
     "node_id":"UETRe02df8tsvM9DXfzOwN",
     "type":"CODE",
     "hide_input_from_viewers":true,
     "hide_output_from_viewers":true
    }
   }
  },
  {
   "cell_type":"markdown",
   "source":[
    "**TASK: Now let's explore GDP and Regions. Create a bar chart showing the mean GDP per Capita per region (recall the black bar represents std).**"
   ],
   "attachments":{
    
   },
   "metadata":{
    "datalore":{
     "node_id":"UCBBQKT3gVPJemQGs5SrgP",
     "type":"MD",
     "hide_input_from_viewers":false,
     "hide_output_from_viewers":false,
     "report_properties":{
      "rowId":"gz8VJpXTcbdRnDUHl5OI8k"
     }
    }
   }
  },
  {
   "cell_type":"code",
   "source":[
    "plt.figure(figsize=(12,6), dpi=200)\n",
    "sns.barplot(data=df, x=\"Region\", y=\"GDP ($ per capita)\")\n",
    "plt.xticks(rotation=90);"
   ],
   "execution_count":407,
   "outputs":[
    {
     "data":{
      "image\/png":"[encoded data removed]"
     },
     "metadata":{
      "image\/png":{
       
      }
     },
     "output_type":"display_data"
    }
   ],
   "metadata":{
    "datalore":{
     "node_id":"NYqkPwop2yHfugDE72dNLR",
     "type":"CODE",
     "hide_input_from_viewers":true,
     "hide_output_from_viewers":true
    }
   }
  },
  {
   "cell_type":"markdown",
   "source":[
    "**TASK: Create a scatterplot showing the relationship between Phones per 1000 people and the GDP per Capita. Color these points by Region.**"
   ],
   "attachments":{
    
   },
   "metadata":{
    "datalore":{
     "node_id":"ATYlBJK9ZmsJjAmC7B9Efg",
     "type":"MD",
     "hide_input_from_viewers":false,
     "hide_output_from_viewers":false,
     "report_properties":{
      "rowId":"dMWOWRGxsQPDzpMiUPg9M9"
     }
    }
   }
  },
  {
   "cell_type":"code",
   "source":[
    "plt.figure(figsize=(12, 8))\n",
    "scatter = sns.scatterplot(data=df, x= 'GDP ($ per capita)', y='Phones (per 1000)', hue='Region', legend='brief', s=90);\n",
    "plt.legend(title='Region', bbox_to_anchor=(1.05, 1), loc='upper left');"
   ],
   "execution_count":408,
   "outputs":[
    {
     "data":{
      "image\/png":"[encoded data removed]"
     },
     "metadata":{
      "image\/png":{
       
      }
     },
     "output_type":"display_data"
    }
   ],
   "metadata":{
    "datalore":{
     "node_id":"3GiainDZzqIAo7u9jo0Yfg",
     "type":"CODE",
     "hide_input_from_viewers":true,
     "hide_output_from_viewers":true
    }
   }
  },
  {
   "cell_type":"markdown",
   "source":[
    "**TASK: Create a scatterplot showing the relationship between GDP per Capita and Literacy (color the points by Region). What conclusions do you draw from this plot?**"
   ],
   "attachments":{
    
   },
   "metadata":{
    "datalore":{
     "node_id":"DxyV1r1oX5O1XKlsJ3yfFP",
     "type":"MD",
     "hide_input_from_viewers":false,
     "hide_output_from_viewers":false,
     "report_properties":{
      "rowId":"kOMrKxmm8FQvfszhDRV5DT"
     }
    }
   }
  },
  {
   "cell_type":"code",
   "source":[
    "plt.figure(figsize=(12, 8))\n",
    "scatter = sns.scatterplot(data=df, x= 'GDP ($ per capita)', y='Literacy (%)', hue='Region', legend='brief', s=90);\n",
    "plt.legend(title='Region', bbox_to_anchor=(1, 0), loc='lower right');"
   ],
   "execution_count":409,
   "outputs":[
    {
     "data":{
      "image\/png":"[encoded data removed]"
     },
     "metadata":{
      "image\/png":{
       
      }
     },
     "output_type":"display_data"
    }
   ],
   "metadata":{
    "datalore":{
     "node_id":"3SmDbGtndAKjDSV4RCFPNk",
     "type":"CODE",
     "hide_input_from_viewers":false,
     "hide_output_from_viewers":false,
     "report_properties":{
      "rowId":"0iys7uZ4Sn5w4Ej6f5TPos"
     }
    }
   }
  },
  {
   "cell_type":"markdown",
   "source":[
    "**TASK: Create a Heatmap of the Correlation between columns in the DataFrame.**"
   ],
   "attachments":{
    
   },
   "metadata":{
    "datalore":{
     "node_id":"TkYXEcakVDDk5NsEFeblxI",
     "type":"MD",
     "hide_input_from_viewers":false,
     "hide_output_from_viewers":false,
     "report_properties":{
      "rowId":"FI0lBV77PcRSV6byMMIGOL"
     }
    }
   }
  },
  {
   "cell_type":"code",
   "source":[
    "plt.figure(figsize=(7,6),dpi=120)\n",
    "correlation = round(df.corr(numeric_only=True),2)\n",
    "sns.heatmap(correlation, annot=True, cmap='viridis', linewidth=0.5, annot_kws={'size':5});"
   ],
   "execution_count":410,
   "outputs":[
    {
     "data":{
      "image\/png":"[encoded data removed]"
     },
     "metadata":{
      "image\/png":{
       
      }
     },
     "output_type":"display_data"
    }
   ],
   "metadata":{
    "datalore":{
     "node_id":"X1wvcXrs08Wy57xHNPnhw4",
     "type":"CODE",
     "hide_input_from_viewers":false,
     "hide_output_from_viewers":false,
     "report_properties":{
      "rowId":"tf4tnLpLs4R2GplBZBxSq9"
     }
    }
   }
  },
  {
   "cell_type":"markdown",
   "source":[
    "**TASK: Seaborn can auto perform hierarchal clustering through the clustermap() function. Create a clustermap of the correlations between each column with this function.**"
   ],
   "attachments":{
    
   },
   "metadata":{
    "datalore":{
     "node_id":"k4u0DATiWuGQOQmpLtv0CJ",
     "type":"MD",
     "hide_input_from_viewers":false,
     "hide_output_from_viewers":false,
     "report_properties":{
      "rowId":"37T1s3YNt9xxLVTzjsFGG4"
     }
    }
   }
  },
  {
   "cell_type":"code",
   "source":[
    "plt.figure(figsize=(7,6),dpi=120)\n",
    "sns.clustermap(correlation, annot=True)"
   ],
   "execution_count":411,
   "outputs":[
    {
     "data":{
      "text\/plain":[
       "<seaborn.matrix.ClusterGrid at 0x7f9b573208b0>"
      ]
     },
     "metadata":{
      
     },
     "output_type":"display_data"
    },
    {
     "data":{
      "text\/plain":[
       "<Figure size 840x720 with 0 Axes>"
      ]
     },
     "metadata":{
      
     },
     "output_type":"display_data"
    },
    {
     "data":{
      "image\/png":"[encoded data removed]"
     },
     "metadata":{
      "image\/png":{
       
      }
     },
     "output_type":"display_data"
    }
   ],
   "metadata":{
    "datalore":{
     "node_id":"WflbTLDylJmwEMBCdBw8Kq",
     "type":"CODE",
     "hide_input_from_viewers":false,
     "hide_output_from_viewers":false,
     "report_properties":{
      "rowId":"oMShV1rWVp9BbI4i8M5wQU"
     }
    }
   }
  },
  {
   "cell_type":"markdown",
   "source":[
    "-----"
   ],
   "attachments":{
    
   },
   "metadata":{
    "datalore":{
     "node_id":"18Xbtt2yKW24j91Rq8p2FG",
     "type":"MD",
     "hide_input_from_viewers":false,
     "hide_output_from_viewers":false,
     "report_properties":{
      "rowId":"P8dNaOTYOTcI3pMHxfxC3g"
     }
    }
   }
  },
  {
   "cell_type":"markdown",
   "source":[
    "## Data Preparation and Model Discovery\n",
    "\n",
    "Let's now prepare our data for Kmeans Clustering!\n",
    "\n",
    "### Missing Data\n",
    "\n",
    "**TASK: Report the number of missing elements per column.**"
   ],
   "attachments":{
    
   },
   "metadata":{
    "datalore":{
     "node_id":"TOn1pVl7rLtWe4TazNcD1d",
     "type":"MD",
     "hide_input_from_viewers":false,
     "hide_output_from_viewers":false,
     "report_properties":{
      "rowId":"O54s4labrLjqERFkCkEYgq"
     }
    }
   }
  },
  {
   "cell_type":"code",
   "source":[
    "df.isnull().sum()"
   ],
   "execution_count":412,
   "outputs":[
    {
     "data":{
      "text\/html":[
       "<pre>Country                                0\n",
       "Region                                 0\n",
       "Population                             0\n",
       "Area (sq. mi.)                         0\n",
       "Pop. Density (per sq. mi.)             0\n",
       "Coastline (coast\/area ratio)           0\n",
       "Net migration                          3\n",
       "Infant mortality (per 1000 births)     3\n",
       "GDP ($ per capita)                     1\n",
       "Literacy (%)                          18\n",
       "Phones (per 1000)                      4\n",
       "Arable (%)                             2\n",
       "Crops (%)                              2\n",
       "Other (%)                              2\n",
       "Climate                               22\n",
       "Birthrate                              3\n",
       "Deathrate                              4\n",
       "Agriculture                           15\n",
       "Industry                              16\n",
       "Service                               15\n",
       "dtype: int64<\/pre>"
      ]
     },
     "metadata":{
      
     },
     "output_type":"display_data"
    }
   ],
   "metadata":{
    "datalore":{
     "node_id":"3xFCOzNkggijULlebx7SDg",
     "type":"CODE",
     "hide_input_from_viewers":false,
     "hide_output_from_viewers":false,
     "report_properties":{
      "rowId":"3ojUbAmR7kzTQop0kdm2qV"
     }
    }
   }
  },
  {
   "cell_type":"markdown",
   "source":[
    "**TASK: What countries have NaN for Agriculture? What is the main aspect of these countries?**"
   ],
   "attachments":{
    
   },
   "metadata":{
    "datalore":{
     "node_id":"PN60oo2YsxSsbHx0k2kobU",
     "type":"MD",
     "hide_input_from_viewers":false,
     "hide_output_from_viewers":false,
     "report_properties":{
      "rowId":"KMeJ4tGXemTiu2c3VRezse"
     }
    }
   }
  },
  {
   "cell_type":"code",
   "source":[
    "missing_agri = df[df['Agriculture'].isnull()]\n",
    "missing_agri"
   ],
   "execution_count":413,
   "outputs":[
    {
     "data":{
      "text\/html":[
       "<div>\n",
       "<style scoped>\n",
       "    .dataframe tbody tr th:only-of-type {\n",
       "        vertical-align: middle;\n",
       "    }\n",
       "\n",
       "    .dataframe tbody tr th {\n",
       "        vertical-align: top;\n",
       "    }\n",
       "\n",
       "    .dataframe thead th {\n",
       "        text-align: right;\n",
       "    }\n",
       "<\/style>\n",
       "<table border=\"1\" class=\"dataframe\">\n",
       "  <thead>\n",
       "    <tr style=\"text-align: right;\">\n",
       "      <th><\/th>\n",
       "      <th>Country<\/th>\n",
       "      <th>Region<\/th>\n",
       "      <th>Population<\/th>\n",
       "      <th>Area (sq. mi.)<\/th>\n",
       "      <th>Pop. Density (per sq. mi.)<\/th>\n",
       "      <th>Coastline (coast\/area ratio)<\/th>\n",
       "      <th>Net migration<\/th>\n",
       "      <th>Infant mortality (per 1000 births)<\/th>\n",
       "      <th>GDP ($ per capita)<\/th>\n",
       "      <th>Literacy (%)<\/th>\n",
       "      <th>Phones (per 1000)<\/th>\n",
       "      <th>Arable (%)<\/th>\n",
       "      <th>Crops (%)<\/th>\n",
       "      <th>Other (%)<\/th>\n",
       "      <th>Climate<\/th>\n",
       "      <th>Birthrate<\/th>\n",
       "      <th>Deathrate<\/th>\n",
       "      <th>Agriculture<\/th>\n",
       "      <th>Industry<\/th>\n",
       "      <th>Service<\/th>\n",
       "    <\/tr>\n",
       "  <\/thead>\n",
       "  <tbody>\n",
       "    <tr>\n",
       "      <th>3<\/th>\n",
       "      <td>American Samoa<\/td>\n",
       "      <td>OCEANIA<\/td>\n",
       "      <td>57794<\/td>\n",
       "      <td>199<\/td>\n",
       "      <td>290.4<\/td>\n",
       "      <td>58.29<\/td>\n",
       "      <td>-20.71<\/td>\n",
       "      <td>9.27<\/td>\n",
       "      <td>8000.0<\/td>\n",
       "      <td>97.0<\/td>\n",
       "      <td>259.5<\/td>\n",
       "      <td>10.00<\/td>\n",
       "      <td>15.00<\/td>\n",
       "      <td>75.00<\/td>\n",
       "      <td>2.0<\/td>\n",
       "      <td>22.46<\/td>\n",
       "      <td>3.27<\/td>\n",
       "      <td>NaN<\/td>\n",
       "      <td>NaN<\/td>\n",
       "      <td>NaN<\/td>\n",
       "    <\/tr>\n",
       "    <tr>\n",
       "      <th>4<\/th>\n",
       "      <td>Andorra<\/td>\n",
       "      <td>WESTERN EUROPE<\/td>\n",
       "      <td>71201<\/td>\n",
       "      <td>468<\/td>\n",
       "      <td>152.1<\/td>\n",
       "      <td>0.00<\/td>\n",
       "      <td>6.60<\/td>\n",
       "      <td>4.05<\/td>\n",
       "      <td>19000.0<\/td>\n",
       "      <td>100.0<\/td>\n",
       "      <td>497.2<\/td>\n",
       "      <td>2.22<\/td>\n",
       "      <td>0.00<\/td>\n",
       "      <td>97.78<\/td>\n",
       "      <td>3.0<\/td>\n",
       "      <td>8.71<\/td>\n",
       "      <td>6.25<\/td>\n",
       "      <td>NaN<\/td>\n",
       "      <td>NaN<\/td>\n",
       "      <td>NaN<\/td>\n",
       "    <\/tr>\n",
       "    <tr>\n",
       "      <th>78<\/th>\n",
       "      <td>Gibraltar<\/td>\n",
       "      <td>WESTERN EUROPE<\/td>\n",
       "      <td>27928<\/td>\n",
       "      <td>7<\/td>\n",
       "      <td>3989.7<\/td>\n",
       "      <td>171.43<\/td>\n",
       "      <td>0.00<\/td>\n",
       "      <td>5.13<\/td>\n",
       "      <td>17500.0<\/td>\n",
       "      <td>NaN<\/td>\n",
       "      <td>877.7<\/td>\n",
       "      <td>0.00<\/td>\n",
       "      <td>0.00<\/td>\n",
       "      <td>100.00<\/td>\n",
       "      <td>NaN<\/td>\n",
       "      <td>10.74<\/td>\n",
       "      <td>9.31<\/td>\n",
       "      <td>NaN<\/td>\n",
       "      <td>NaN<\/td>\n",
       "      <td>NaN<\/td>\n",
       "    <\/tr>\n",
       "    <tr>\n",
       "      <th>80<\/th>\n",
       "      <td>Greenland<\/td>\n",
       "      <td>NORTHERN AMERICA<\/td>\n",
       "      <td>56361<\/td>\n",
       "      <td>2166086<\/td>\n",
       "      <td>0.0<\/td>\n",
       "      <td>2.04<\/td>\n",
       "      <td>-8.37<\/td>\n",
       "      <td>15.82<\/td>\n",
       "      <td>20000.0<\/td>\n",
       "      <td>NaN<\/td>\n",
       "      <td>448.9<\/td>\n",
       "      <td>0.00<\/td>\n",
       "      <td>0.00<\/td>\n",
       "      <td>100.00<\/td>\n",
       "      <td>1.0<\/td>\n",
       "      <td>15.93<\/td>\n",
       "      <td>7.84<\/td>\n",
       "      <td>NaN<\/td>\n",
       "      <td>NaN<\/td>\n",
       "      <td>NaN<\/td>\n",
       "    <\/tr>\n",
       "    <tr>\n",
       "      <th>83<\/th>\n",
       "      <td>Guam<\/td>\n",
       "      <td>OCEANIA<\/td>\n",
       "      <td>171019<\/td>\n",
       "      <td>541<\/td>\n",
       "      <td>316.1<\/td>\n",
       "      <td>23.20<\/td>\n",
       "      <td>0.00<\/td>\n",
       "      <td>6.94<\/td>\n",
       "      <td>21000.0<\/td>\n",
       "      <td>99.0<\/td>\n",
       "      <td>492.0<\/td>\n",
       "      <td>9.09<\/td>\n",
       "      <td>16.36<\/td>\n",
       "      <td>74.55<\/td>\n",
       "      <td>2.0<\/td>\n",
       "      <td>18.79<\/td>\n",
       "      <td>4.48<\/td>\n",
       "      <td>NaN<\/td>\n",
       "      <td>NaN<\/td>\n",
       "      <td>NaN<\/td>\n",
       "    <\/tr>\n",
       "    <tr>\n",
       "      <th>134<\/th>\n",
       "      <td>Mayotte<\/td>\n",
       "      <td>SUB-SAHARAN AFRICA<\/td>\n",
       "      <td>201234<\/td>\n",
       "      <td>374<\/td>\n",
       "      <td>538.1<\/td>\n",
       "      <td>49.52<\/td>\n",
       "      <td>6.78<\/td>\n",
       "      <td>62.40<\/td>\n",
       "      <td>2600.0<\/td>\n",
       "      <td>NaN<\/td>\n",
       "      <td>49.7<\/td>\n",
       "      <td>NaN<\/td>\n",
       "      <td>NaN<\/td>\n",
       "      <td>NaN<\/td>\n",
       "      <td>2.0<\/td>\n",
       "      <td>40.95<\/td>\n",
       "      <td>7.70<\/td>\n",
       "      <td>NaN<\/td>\n",
       "      <td>NaN<\/td>\n",
       "      <td>NaN<\/td>\n",
       "    <\/tr>\n",
       "    <tr>\n",
       "      <th>140<\/th>\n",
       "      <td>Montserrat<\/td>\n",
       "      <td>LATIN AMER. &amp; CARIB<\/td>\n",
       "      <td>9439<\/td>\n",
       "      <td>102<\/td>\n",
       "      <td>92.5<\/td>\n",
       "      <td>39.22<\/td>\n",
       "      <td>0.00<\/td>\n",
       "      <td>7.35<\/td>\n",
       "      <td>3400.0<\/td>\n",
       "      <td>97.0<\/td>\n",
       "      <td>NaN<\/td>\n",
       "      <td>20.00<\/td>\n",
       "      <td>0.00<\/td>\n",
       "      <td>80.00<\/td>\n",
       "      <td>2.0<\/td>\n",
       "      <td>17.59<\/td>\n",
       "      <td>7.10<\/td>\n",
       "      <td>NaN<\/td>\n",
       "      <td>NaN<\/td>\n",
       "      <td>NaN<\/td>\n",
       "    <\/tr>\n",
       "    <tr>\n",
       "      <th>144<\/th>\n",
       "      <td>Nauru<\/td>\n",
       "      <td>OCEANIA<\/td>\n",
       "      <td>13287<\/td>\n",
       "      <td>21<\/td>\n",
       "      <td>632.7<\/td>\n",
       "      <td>142.86<\/td>\n",
       "      <td>0.00<\/td>\n",
       "      <td>9.95<\/td>\n",
       "      <td>5000.0<\/td>\n",
       "      <td>NaN<\/td>\n",
       "      <td>143.0<\/td>\n",
       "      <td>0.00<\/td>\n",
       "      <td>0.00<\/td>\n",
       "      <td>100.00<\/td>\n",
       "      <td>2.0<\/td>\n",
       "      <td>24.76<\/td>\n",
       "      <td>6.70<\/td>\n",
       "      <td>NaN<\/td>\n",
       "      <td>NaN<\/td>\n",
       "      <td>NaN<\/td>\n",
       "    <\/tr>\n",
       "    <tr>\n",
       "      <th>153<\/th>\n",
       "      <td>N. Mariana Islands<\/td>\n",
       "      <td>OCEANIA<\/td>\n",
       "      <td>82459<\/td>\n",
       "      <td>477<\/td>\n",
       "      <td>172.9<\/td>\n",
       "      <td>310.69<\/td>\n",
       "      <td>9.61<\/td>\n",
       "      <td>7.11<\/td>\n",
       "      <td>12500.0<\/td>\n",
       "      <td>97.0<\/td>\n",
       "      <td>254.7<\/td>\n",
       "      <td>13.04<\/td>\n",
       "      <td>4.35<\/td>\n",
       "      <td>82.61<\/td>\n",
       "      <td>2.0<\/td>\n",
       "      <td>19.43<\/td>\n",
       "      <td>2.29<\/td>\n",
       "      <td>NaN<\/td>\n",
       "      <td>NaN<\/td>\n",
       "      <td>NaN<\/td>\n",
       "    <\/tr>\n",
       "    <tr>\n",
       "      <th>171<\/th>\n",
       "      <td>Saint Helena<\/td>\n",
       "      <td>SUB-SAHARAN AFRICA<\/td>\n",
       "      <td>7502<\/td>\n",
       "      <td>413<\/td>\n",
       "      <td>18.2<\/td>\n",
       "      <td>14.53<\/td>\n",
       "      <td>0.00<\/td>\n",
       "      <td>19.00<\/td>\n",
       "      <td>2500.0<\/td>\n",
       "      <td>97.0<\/td>\n",
       "      <td>293.3<\/td>\n",
       "      <td>12.90<\/td>\n",
       "      <td>0.00<\/td>\n",
       "      <td>87.10<\/td>\n",
       "      <td>NaN<\/td>\n",
       "      <td>12.13<\/td>\n",
       "      <td>6.53<\/td>\n",
       "      <td>NaN<\/td>\n",
       "      <td>NaN<\/td>\n",
       "      <td>NaN<\/td>\n",
       "    <\/tr>\n",
       "    <tr>\n",
       "      <th>174<\/th>\n",
       "      <td>St Pierre &amp; Miquelon<\/td>\n",
       "      <td>NORTHERN AMERICA<\/td>\n",
       "      <td>7026<\/td>\n",
       "      <td>242<\/td>\n",
       "      <td>29.0<\/td>\n",
       "      <td>49.59<\/td>\n",
       "      <td>-4.86<\/td>\n",
       "      <td>7.54<\/td>\n",
       "      <td>6900.0<\/td>\n",
       "      <td>99.0<\/td>\n",
       "      <td>683.2<\/td>\n",
       "      <td>13.04<\/td>\n",
       "      <td>0.00<\/td>\n",
       "      <td>86.96<\/td>\n",
       "      <td>NaN<\/td>\n",
       "      <td>13.52<\/td>\n",
       "      <td>6.83<\/td>\n",
       "      <td>NaN<\/td>\n",
       "      <td>NaN<\/td>\n",
       "      <td>NaN<\/td>\n",
       "    <\/tr>\n",
       "    <tr>\n",
       "      <th>177<\/th>\n",
       "      <td>San Marino<\/td>\n",
       "      <td>WESTERN EUROPE<\/td>\n",
       "      <td>29251<\/td>\n",
       "      <td>61<\/td>\n",
       "      <td>479.5<\/td>\n",
       "      <td>0.00<\/td>\n",
       "      <td>10.98<\/td>\n",
       "      <td>5.73<\/td>\n",
       "      <td>34600.0<\/td>\n",
       "      <td>96.0<\/td>\n",
       "      <td>704.3<\/td>\n",
       "      <td>16.67<\/td>\n",
       "      <td>0.00<\/td>\n",
       "      <td>83.33<\/td>\n",
       "      <td>NaN<\/td>\n",
       "      <td>10.02<\/td>\n",
       "      <td>8.17<\/td>\n",
       "      <td>NaN<\/td>\n",
       "      <td>NaN<\/td>\n",
       "      <td>NaN<\/td>\n",
       "    <\/tr>\n",
       "    <tr>\n",
       "      <th>208<\/th>\n",
       "      <td>Turks &amp; Caicos Is<\/td>\n",
       "      <td>LATIN AMER. &amp; CARIB<\/td>\n",
       "      <td>21152<\/td>\n",
       "      <td>430<\/td>\n",
       "      <td>49.2<\/td>\n",
       "      <td>90.47<\/td>\n",
       "      <td>11.68<\/td>\n",
       "      <td>15.67<\/td>\n",
       "      <td>9600.0<\/td>\n",
       "      <td>98.0<\/td>\n",
       "      <td>269.5<\/td>\n",
       "      <td>2.33<\/td>\n",
       "      <td>0.00<\/td>\n",
       "      <td>97.67<\/td>\n",
       "      <td>2.0<\/td>\n",
       "      <td>21.84<\/td>\n",
       "      <td>4.21<\/td>\n",
       "      <td>NaN<\/td>\n",
       "      <td>NaN<\/td>\n",
       "      <td>NaN<\/td>\n",
       "    <\/tr>\n",
       "    <tr>\n",
       "      <th>221<\/th>\n",
       "      <td>Wallis and Futuna<\/td>\n",
       "      <td>OCEANIA<\/td>\n",
       "      <td>16025<\/td>\n",
       "      <td>274<\/td>\n",
       "      <td>58.5<\/td>\n",
       "      <td>47.08<\/td>\n",
       "      <td>NaN<\/td>\n",
       "      <td>NaN<\/td>\n",
       "      <td>3700.0<\/td>\n",
       "      <td>50.0<\/td>\n",
       "      <td>118.6<\/td>\n",
       "      <td>5.00<\/td>\n",
       "      <td>25.00<\/td>\n",
       "      <td>70.00<\/td>\n",
       "      <td>2.0<\/td>\n",
       "      <td>NaN<\/td>\n",
       "      <td>NaN<\/td>\n",
       "      <td>NaN<\/td>\n",
       "      <td>NaN<\/td>\n",
       "      <td>NaN<\/td>\n",
       "    <\/tr>\n",
       "    <tr>\n",
       "      <th>223<\/th>\n",
       "      <td>Western Sahara<\/td>\n",
       "      <td>NORTHERN AFRICA<\/td>\n",
       "      <td>273008<\/td>\n",
       "      <td>266000<\/td>\n",
       "      <td>1.0<\/td>\n",
       "      <td>0.42<\/td>\n",
       "      <td>NaN<\/td>\n",
       "      <td>NaN<\/td>\n",
       "      <td>NaN<\/td>\n",
       "      <td>NaN<\/td>\n",
       "      <td>NaN<\/td>\n",
       "      <td>0.02<\/td>\n",
       "      <td>0.00<\/td>\n",
       "      <td>99.98<\/td>\n",
       "      <td>1.0<\/td>\n",
       "      <td>NaN<\/td>\n",
       "      <td>NaN<\/td>\n",
       "      <td>NaN<\/td>\n",
       "      <td>NaN<\/td>\n",
       "      <td>0.4<\/td>\n",
       "    <\/tr>\n",
       "  <\/tbody>\n",
       "<\/table>\n",
       "<\/div>"
      ]
     },
     "metadata":{
      
     },
     "output_type":"display_data"
    }
   ],
   "metadata":{
    "datalore":{
     "node_id":"0PT7AoDNDFsiY62vaaPUzM",
     "type":"CODE",
     "hide_input_from_viewers":false,
     "hide_output_from_viewers":false,
     "report_properties":{
      "rowId":"KHHjzszZNx1FqNPAQqvyv1"
     }
    }
   }
  },
  {
   "cell_type":"markdown",
   "source":[
    "**TASK: You should have noticed most of these countries are tiny islands, with the exception of Greenland and Western Sahara. Go ahead and fill any of these countries missing NaN values with 0, since they are so small or essentially non-existant. There should be 15 countries in total you do this for. For a hint on how to do this, recall you can do the following:**\n",
    "\n",
    "    df[df['feature'].isnull()]\n",
    "    "
   ],
   "attachments":{
    
   },
   "metadata":{
    "datalore":{
     "node_id":"AVoCfQ1F8TFvXRZzBeRhU1",
     "type":"MD",
     "hide_input_from_viewers":false,
     "hide_output_from_viewers":false,
     "report_properties":{
      "rowId":"ZXHogu91XoYu8saHE2Mqa6"
     }
    }
   }
  },
  {
   "cell_type":"code",
   "source":[
    "df[df['Agriculture'].isnull()] = df[df['Agriculture'].isnull()].fillna(0)"
   ],
   "execution_count":414,
   "outputs":[
    
   ],
   "metadata":{
    "datalore":{
     "node_id":"GWKW0jk9X1FO8ul3IeCmHU",
     "type":"CODE",
     "hide_input_from_viewers":true,
     "hide_output_from_viewers":true
    }
   }
  },
  {
   "cell_type":"markdown",
   "source":[
    "**TASK: Now check to see what is still missing by counting number of missing elements again per feature:**"
   ],
   "attachments":{
    
   },
   "metadata":{
    "datalore":{
     "node_id":"eZ7H4nMzR5SPqmGVejh1bF",
     "type":"MD",
     "hide_input_from_viewers":false,
     "hide_output_from_viewers":false,
     "report_properties":{
      "rowId":"kU767ZqsVUhSA36OD9zLYR"
     }
    }
   }
  },
  {
   "cell_type":"code",
   "source":[
    "df.isnull().sum()"
   ],
   "execution_count":415,
   "outputs":[
    {
     "data":{
      "text\/html":[
       "<pre>Country                                0\n",
       "Region                                 0\n",
       "Population                             0\n",
       "Area (sq. mi.)                         0\n",
       "Pop. Density (per sq. mi.)             0\n",
       "Coastline (coast\/area ratio)           0\n",
       "Net migration                          1\n",
       "Infant mortality (per 1000 births)     1\n",
       "GDP ($ per capita)                     0\n",
       "Literacy (%)                          13\n",
       "Phones (per 1000)                      2\n",
       "Arable (%)                             1\n",
       "Crops (%)                              1\n",
       "Other (%)                              1\n",
       "Climate                               18\n",
       "Birthrate                              1\n",
       "Deathrate                              2\n",
       "Agriculture                            0\n",
       "Industry                               1\n",
       "Service                                1\n",
       "dtype: int64<\/pre>"
      ]
     },
     "metadata":{
      
     },
     "output_type":"display_data"
    }
   ],
   "metadata":{
    "datalore":{
     "node_id":"uIOX5MbRKBApcgQoUwV4Wy",
     "type":"CODE",
     "hide_input_from_viewers":false,
     "hide_output_from_viewers":false,
     "report_properties":{
      "rowId":"EGbVRo9UfBw65h0DaOuEkA"
     }
    }
   }
  },
  {
   "cell_type":"markdown",
   "source":[
    "**TASK: Notice climate is missing for a few countries, but not the Region! Let's use this to our advantage. Fill in the missing Climate values based on the mean climate value for its region.**\n",
    "\n",
    "Hints on how to do this: https:\/\/stackoverflow.com\/questions\/19966018\/pandas-filling-missing-values-by-mean-in-each-group"
   ],
   "attachments":{
    
   },
   "metadata":{
    "datalore":{
     "node_id":"Hylyj5xohlVzlfN1zy7VDv",
     "type":"MD",
     "hide_input_from_viewers":false,
     "hide_output_from_viewers":false,
     "report_properties":{
      "rowId":"Ktgp9KIJsEalSlbQV8FSqh"
     }
    }
   }
  },
  {
   "cell_type":"code",
   "source":[
    "mean_climate_by_region = df.groupby('Region')['Climate'].mean() #NaN values are excluded for mean calculation\n",
    "df['Climate'].fillna(df['Region'].map(mean_climate_by_region), inplace=True)"
   ],
   "execution_count":416,
   "outputs":[
    
   ],
   "metadata":{
    "datalore":{
     "node_id":"qUIpwRjhyCzIq8CoswVzho",
     "type":"CODE",
     "hide_input_from_viewers":true,
     "hide_output_from_viewers":true
    }
   }
  },
  {
   "cell_type":"markdown",
   "source":[
    "**TASK: Check again on many elements are missing:**"
   ],
   "attachments":{
    
   },
   "metadata":{
    "datalore":{
     "node_id":"2Vy1PfYtrH5z6grOIJkadD",
     "type":"MD",
     "hide_input_from_viewers":false,
     "hide_output_from_viewers":false,
     "report_properties":{
      "rowId":"19a7IZrU2r5lIjJN9NbadO"
     }
    }
   }
  },
  {
   "cell_type":"code",
   "source":[
    "df.isnull().sum()"
   ],
   "execution_count":417,
   "outputs":[
    {
     "data":{
      "text\/html":[
       "<pre>Country                                0\n",
       "Region                                 0\n",
       "Population                             0\n",
       "Area (sq. mi.)                         0\n",
       "Pop. Density (per sq. mi.)             0\n",
       "Coastline (coast\/area ratio)           0\n",
       "Net migration                          1\n",
       "Infant mortality (per 1000 births)     1\n",
       "GDP ($ per capita)                     0\n",
       "Literacy (%)                          13\n",
       "Phones (per 1000)                      2\n",
       "Arable (%)                             1\n",
       "Crops (%)                              1\n",
       "Other (%)                              1\n",
       "Climate                                0\n",
       "Birthrate                              1\n",
       "Deathrate                              2\n",
       "Agriculture                            0\n",
       "Industry                               1\n",
       "Service                                1\n",
       "dtype: int64<\/pre>"
      ]
     },
     "metadata":{
      
     },
     "output_type":"display_data"
    }
   ],
   "metadata":{
    "datalore":{
     "node_id":"azlhTLgTPC1AxGsHPNyKXX",
     "type":"CODE",
     "hide_input_from_viewers":false,
     "hide_output_from_viewers":false,
     "report_properties":{
      "rowId":"Sfj6warAt30j3J6p1uFi6E"
     }
    }
   }
  },
  {
   "cell_type":"markdown",
   "source":[
    "**TASK: It looks like Literacy percentage is missing. Use the same tactic as we did with Climate missing values and fill in any missing Literacy % values with the mean Literacy % of the Region.**"
   ],
   "attachments":{
    
   },
   "metadata":{
    "datalore":{
     "node_id":"TUkLBkvleUooWzjMnSwGfv",
     "type":"MD",
     "hide_input_from_viewers":false,
     "hide_output_from_viewers":false,
     "report_properties":{
      "rowId":"l6GvvQ0jkt6iFwHIrXA9QD"
     }
    }
   }
  },
  {
   "cell_type":"code",
   "source":[
    "mean_literacy_by_region = df.groupby('Region')['Literacy (%)'].mean()\n",
    "df['Literacy (%)'].fillna(df['Region'].map(mean_literacy_by_region), inplace=True)"
   ],
   "execution_count":418,
   "outputs":[
    
   ],
   "metadata":{
    "datalore":{
     "node_id":"BiVkfQGAoPHC8FD2g8c3iK",
     "type":"CODE",
     "hide_input_from_viewers":false,
     "hide_output_from_viewers":false,
     "report_properties":{
      "rowId":"MKB4amM8SN7piZTQRfTzNv"
     }
    }
   }
  },
  {
   "cell_type":"markdown",
   "source":[
    "**TASK: Check again on the remaining missing values:**"
   ],
   "attachments":{
    
   },
   "metadata":{
    "datalore":{
     "node_id":"u4cG8h8wB2Z4shj5oXDJll",
     "type":"MD",
     "hide_input_from_viewers":false,
     "hide_output_from_viewers":false,
     "report_properties":{
      "rowId":"ADd1J55oeYIGbmhmM5amJy"
     }
    }
   }
  },
  {
   "cell_type":"code",
   "source":[
    "df.isnull().sum()"
   ],
   "execution_count":419,
   "outputs":[
    {
     "data":{
      "text\/html":[
       "<pre>Country                               0\n",
       "Region                                0\n",
       "Population                            0\n",
       "Area (sq. mi.)                        0\n",
       "Pop. Density (per sq. mi.)            0\n",
       "Coastline (coast\/area ratio)          0\n",
       "Net migration                         1\n",
       "Infant mortality (per 1000 births)    1\n",
       "GDP ($ per capita)                    0\n",
       "Literacy (%)                          0\n",
       "Phones (per 1000)                     2\n",
       "Arable (%)                            1\n",
       "Crops (%)                             1\n",
       "Other (%)                             1\n",
       "Climate                               0\n",
       "Birthrate                             1\n",
       "Deathrate                             2\n",
       "Agriculture                           0\n",
       "Industry                              1\n",
       "Service                               1\n",
       "dtype: int64<\/pre>"
      ]
     },
     "metadata":{
      
     },
     "output_type":"display_data"
    }
   ],
   "metadata":{
    "datalore":{
     "node_id":"nmiXZSBYBUiPgINMr9UDS4",
     "type":"CODE",
     "hide_input_from_viewers":false,
     "hide_output_from_viewers":false,
     "report_properties":{
      "rowId":"LqcTUzw7udQNHrtytaxrJa"
     }
    }
   }
  },
  {
   "cell_type":"markdown",
   "source":[
    "**TASK: Optional: We are now missing values for only a few countries. Go ahead and drop these countries OR feel free to fill in these last few remaining values with any preferred methodology. For simplicity, we will drop these.**"
   ],
   "attachments":{
    
   },
   "metadata":{
    "datalore":{
     "node_id":"mNYJm0lH2Q1m346b39CL9a",
     "type":"MD",
     "hide_input_from_viewers":false,
     "hide_output_from_viewers":false,
     "report_properties":{
      "rowId":"qi19QwXK7U0SvwwI8W1EVi"
     }
    }
   }
  },
  {
   "cell_type":"code",
   "source":[
    "df.dropna(inplace=True)"
   ],
   "execution_count":420,
   "outputs":[
    
   ],
   "metadata":{
    "datalore":{
     "node_id":"aUULpIqP6gpYY4MUYWzUJL",
     "type":"CODE",
     "hide_input_from_viewers":false,
     "hide_output_from_viewers":false,
     "report_properties":{
      "rowId":"dkd6spALVvbga35gQfNzkx"
     }
    }
   }
  },
  {
   "cell_type":"code",
   "source":[
    "df.isnull().sum()"
   ],
   "execution_count":421,
   "outputs":[
    {
     "data":{
      "text\/html":[
       "<pre>Country                               0\n",
       "Region                                0\n",
       "Population                            0\n",
       "Area (sq. mi.)                        0\n",
       "Pop. Density (per sq. mi.)            0\n",
       "Coastline (coast\/area ratio)          0\n",
       "Net migration                         0\n",
       "Infant mortality (per 1000 births)    0\n",
       "GDP ($ per capita)                    0\n",
       "Literacy (%)                          0\n",
       "Phones (per 1000)                     0\n",
       "Arable (%)                            0\n",
       "Crops (%)                             0\n",
       "Other (%)                             0\n",
       "Climate                               0\n",
       "Birthrate                             0\n",
       "Deathrate                             0\n",
       "Agriculture                           0\n",
       "Industry                              0\n",
       "Service                               0\n",
       "dtype: int64<\/pre>"
      ]
     },
     "metadata":{
      
     },
     "output_type":"display_data"
    }
   ],
   "metadata":{
    "datalore":{
     "node_id":"YxpQ6Syfc716ufYyVxLStl",
     "type":"CODE",
     "hide_input_from_viewers":true,
     "hide_output_from_viewers":true
    }
   }
  },
  {
   "cell_type":"markdown",
   "source":[
    "## Data Feature Preparation"
   ],
   "attachments":{
    
   },
   "metadata":{
    "datalore":{
     "node_id":"BuQYpKk64LfRCIjfHon51w",
     "type":"MD",
     "hide_input_from_viewers":false,
     "hide_output_from_viewers":false,
     "report_properties":{
      "rowId":"BEqv1HXJPiGeXtnQejkOkg"
     }
    }
   }
  },
  {
   "cell_type":"markdown",
   "source":[
    "**TASK: It is now time to prepare the data for clustering. The Country column is still a unique identifier string, so it won't be useful for clustering, since its unique for each point. Go ahead and drop this Country column.**"
   ],
   "attachments":{
    
   },
   "metadata":{
    "datalore":{
     "node_id":"68wWQWpPAa5lZRa8Qu2qXq",
     "type":"MD",
     "hide_input_from_viewers":false,
     "hide_output_from_viewers":false,
     "report_properties":{
      "rowId":"81Hvmwg6I7uDaNrWDHdzEi"
     }
    }
   }
  },
  {
   "cell_type":"code",
   "source":[
    "df_clustering = df.drop('Country', axis=1)"
   ],
   "execution_count":422,
   "outputs":[
    
   ],
   "metadata":{
    "datalore":{
     "node_id":"IBrcCPYwtMdG3FSfN6K8bZ",
     "type":"CODE",
     "hide_input_from_viewers":true,
     "hide_output_from_viewers":true
    }
   }
  },
  {
   "cell_type":"markdown",
   "source":[
    "**TASK: Now let's create the X array of features, the Region column is still categorical strings, use Pandas to create dummy variables from this column to create a finalzed X matrix of continuous features along with the dummy variables for the Regions.**"
   ],
   "attachments":{
    
   },
   "metadata":{
    "datalore":{
     "node_id":"KYOP2nrVYOoqxWTrwuUC53",
     "type":"MD",
     "hide_input_from_viewers":false,
     "hide_output_from_viewers":false,
     "report_properties":{
      "rowId":"2eBRIVkKBYayafqgSlFCl2"
     }
    }
   }
  },
  {
   "cell_type":"code",
   "source":[
    "X = pd.get_dummies(data=df_clustering)\n",
    "X.head()"
   ],
   "execution_count":423,
   "outputs":[
    {
     "data":{
      "text\/html":[
       "<div>\n",
       "<style scoped>\n",
       "    .dataframe tbody tr th:only-of-type {\n",
       "        vertical-align: middle;\n",
       "    }\n",
       "\n",
       "    .dataframe tbody tr th {\n",
       "        vertical-align: top;\n",
       "    }\n",
       "\n",
       "    .dataframe thead th {\n",
       "        text-align: right;\n",
       "    }\n",
       "<\/style>\n",
       "<table border=\"1\" class=\"dataframe\">\n",
       "  <thead>\n",
       "    <tr style=\"text-align: right;\">\n",
       "      <th><\/th>\n",
       "      <th>Population<\/th>\n",
       "      <th>Area (sq. mi.)<\/th>\n",
       "      <th>Pop. Density (per sq. mi.)<\/th>\n",
       "      <th>Coastline (coast\/area ratio)<\/th>\n",
       "      <th>Net migration<\/th>\n",
       "      <th>Infant mortality (per 1000 births)<\/th>\n",
       "      <th>GDP ($ per capita)<\/th>\n",
       "      <th>Literacy (%)<\/th>\n",
       "      <th>Phones (per 1000)<\/th>\n",
       "      <th>Arable (%)<\/th>\n",
       "      <th>...<\/th>\n",
       "      <th>Region_BALTICS<\/th>\n",
       "      <th>Region_C.W. OF IND. STATES<\/th>\n",
       "      <th>Region_EASTERN EUROPE<\/th>\n",
       "      <th>Region_LATIN AMER. &amp; CARIB<\/th>\n",
       "      <th>Region_NEAR EAST<\/th>\n",
       "      <th>Region_NORTHERN AFRICA<\/th>\n",
       "      <th>Region_NORTHERN AMERICA<\/th>\n",
       "      <th>Region_OCEANIA<\/th>\n",
       "      <th>Region_SUB-SAHARAN AFRICA<\/th>\n",
       "      <th>Region_WESTERN EUROPE<\/th>\n",
       "    <\/tr>\n",
       "  <\/thead>\n",
       "  <tbody>\n",
       "    <tr>\n",
       "      <th>0<\/th>\n",
       "      <td>31056997<\/td>\n",
       "      <td>647500<\/td>\n",
       "      <td>48.0<\/td>\n",
       "      <td>0.00<\/td>\n",
       "      <td>23.06<\/td>\n",
       "      <td>163.07<\/td>\n",
       "      <td>700.0<\/td>\n",
       "      <td>36.0<\/td>\n",
       "      <td>3.2<\/td>\n",
       "      <td>12.13<\/td>\n",
       "      <td>...<\/td>\n",
       "      <td>0<\/td>\n",
       "      <td>0<\/td>\n",
       "      <td>0<\/td>\n",
       "      <td>0<\/td>\n",
       "      <td>0<\/td>\n",
       "      <td>0<\/td>\n",
       "      <td>0<\/td>\n",
       "      <td>0<\/td>\n",
       "      <td>0<\/td>\n",
       "      <td>0<\/td>\n",
       "    <\/tr>\n",
       "    <tr>\n",
       "      <th>1<\/th>\n",
       "      <td>3581655<\/td>\n",
       "      <td>28748<\/td>\n",
       "      <td>124.6<\/td>\n",
       "      <td>1.26<\/td>\n",
       "      <td>-4.93<\/td>\n",
       "      <td>21.52<\/td>\n",
       "      <td>4500.0<\/td>\n",
       "      <td>86.5<\/td>\n",
       "      <td>71.2<\/td>\n",
       "      <td>21.09<\/td>\n",
       "      <td>...<\/td>\n",
       "      <td>0<\/td>\n",
       "      <td>0<\/td>\n",
       "      <td>1<\/td>\n",
       "      <td>0<\/td>\n",
       "      <td>0<\/td>\n",
       "      <td>0<\/td>\n",
       "      <td>0<\/td>\n",
       "      <td>0<\/td>\n",
       "      <td>0<\/td>\n",
       "      <td>0<\/td>\n",
       "    <\/tr>\n",
       "    <tr>\n",
       "      <th>2<\/th>\n",
       "      <td>32930091<\/td>\n",
       "      <td>2381740<\/td>\n",
       "      <td>13.8<\/td>\n",
       "      <td>0.04<\/td>\n",
       "      <td>-0.39<\/td>\n",
       "      <td>31.00<\/td>\n",
       "      <td>6000.0<\/td>\n",
       "      <td>70.0<\/td>\n",
       "      <td>78.1<\/td>\n",
       "      <td>3.22<\/td>\n",
       "      <td>...<\/td>\n",
       "      <td>0<\/td>\n",
       "      <td>0<\/td>\n",
       "      <td>0<\/td>\n",
       "      <td>0<\/td>\n",
       "      <td>0<\/td>\n",
       "      <td>1<\/td>\n",
       "      <td>0<\/td>\n",
       "      <td>0<\/td>\n",
       "      <td>0<\/td>\n",
       "      <td>0<\/td>\n",
       "    <\/tr>\n",
       "    <tr>\n",
       "      <th>3<\/th>\n",
       "      <td>57794<\/td>\n",
       "      <td>199<\/td>\n",
       "      <td>290.4<\/td>\n",
       "      <td>58.29<\/td>\n",
       "      <td>-20.71<\/td>\n",
       "      <td>9.27<\/td>\n",
       "      <td>8000.0<\/td>\n",
       "      <td>97.0<\/td>\n",
       "      <td>259.5<\/td>\n",
       "      <td>10.00<\/td>\n",
       "      <td>...<\/td>\n",
       "      <td>0<\/td>\n",
       "      <td>0<\/td>\n",
       "      <td>0<\/td>\n",
       "      <td>0<\/td>\n",
       "      <td>0<\/td>\n",
       "      <td>0<\/td>\n",
       "      <td>0<\/td>\n",
       "      <td>1<\/td>\n",
       "      <td>0<\/td>\n",
       "      <td>0<\/td>\n",
       "    <\/tr>\n",
       "    <tr>\n",
       "      <th>4<\/th>\n",
       "      <td>71201<\/td>\n",
       "      <td>468<\/td>\n",
       "      <td>152.1<\/td>\n",
       "      <td>0.00<\/td>\n",
       "      <td>6.60<\/td>\n",
       "      <td>4.05<\/td>\n",
       "      <td>19000.0<\/td>\n",
       "      <td>100.0<\/td>\n",
       "      <td>497.2<\/td>\n",
       "      <td>2.22<\/td>\n",
       "      <td>...<\/td>\n",
       "      <td>0<\/td>\n",
       "      <td>0<\/td>\n",
       "      <td>0<\/td>\n",
       "      <td>0<\/td>\n",
       "      <td>0<\/td>\n",
       "      <td>0<\/td>\n",
       "      <td>0<\/td>\n",
       "      <td>0<\/td>\n",
       "      <td>0<\/td>\n",
       "      <td>1<\/td>\n",
       "    <\/tr>\n",
       "  <\/tbody>\n",
       "<\/table>\n",
       "<p>5 rows × 29 columns<\/p>\n",
       "<\/div>"
      ]
     },
     "metadata":{
      
     },
     "output_type":"display_data"
    }
   ],
   "metadata":{
    "datalore":{
     "node_id":"rAebXLpre9VdvDA4bojfWz",
     "type":"CODE",
     "hide_input_from_viewers":false,
     "hide_output_from_viewers":false,
     "report_properties":{
      "rowId":"5rraIBBkUcdeV4vxolhN9i"
     }
    }
   }
  },
  {
   "cell_type":"markdown",
   "source":[
    "### Scaling"
   ],
   "attachments":{
    
   },
   "metadata":{
    "datalore":{
     "node_id":"YnKQ2IrjjJFuX1EaDmwh5a",
     "type":"MD",
     "hide_input_from_viewers":false,
     "hide_output_from_viewers":false,
     "report_properties":{
      "rowId":"2zAVOQakEPyI4Wqe556tBV"
     }
    }
   }
  },
  {
   "cell_type":"markdown",
   "source":[
    "**TASK: Due to some measurements being in terms of percentages and other metrics being total counts (population), we should scale this data first. Use Sklearn to scale the X feature matrics.**"
   ],
   "attachments":{
    
   },
   "metadata":{
    "datalore":{
     "node_id":"D5DOXmpJxUlJtIAao09znJ",
     "type":"MD",
     "hide_input_from_viewers":false,
     "hide_output_from_viewers":false,
     "report_properties":{
      "rowId":"GFYKIhPceQS7MOSlBZiNuD"
     }
    }
   }
  },
  {
   "cell_type":"code",
   "source":[
    "from sklearn.preprocessing import StandardScaler"
   ],
   "execution_count":424,
   "outputs":[
    
   ],
   "metadata":{
    "datalore":{
     "node_id":"Ym8Wni9h7HmnyMW1UUEBCH",
     "type":"CODE",
     "hide_input_from_viewers":false,
     "hide_output_from_viewers":false,
     "report_properties":{
      "rowId":"YBKt0IKyFKTmgPmk4pF6gE"
     }
    }
   }
  },
  {
   "cell_type":"code",
   "source":[
    "scaler = StandardScaler()"
   ],
   "execution_count":425,
   "outputs":[
    
   ],
   "metadata":{
    "datalore":{
     "node_id":"oUWCLiz5Gu40GJESKsLyyc",
     "type":"CODE",
     "hide_input_from_viewers":true,
     "hide_output_from_viewers":true
    }
   }
  },
  {
   "cell_type":"code",
   "source":[
    "X_scaled = scaler.fit_transform(X)\n",
    "X_scaled"
   ],
   "execution_count":426,
   "outputs":[
    {
     "data":{
      "text\/html":[
       "<pre>array([[ 0.0133285 ,  0.01855412, -0.20308668, ..., -0.31544015,\n",
       "        -0.54772256, -0.36514837],\n",
       "       [-0.21730118, -0.32370888, -0.14378531, ..., -0.31544015,\n",
       "        -0.54772256, -0.36514837],\n",
       "       [ 0.02905136,  0.97784988, -0.22956327, ..., -0.31544015,\n",
       "        -0.54772256, -0.36514837],\n",
       "       ...,\n",
       "       [-0.06726127, -0.04756396, -0.20881553, ..., -0.31544015,\n",
       "        -0.54772256, -0.36514837],\n",
       "       [-0.15081724,  0.07669798, -0.22840201, ..., -0.31544015,\n",
       "         1.82574186, -0.36514837],\n",
       "       [-0.14464933, -0.12356132, -0.2160153 , ..., -0.31544015,\n",
       "         1.82574186, -0.36514837]])<\/pre>"
      ]
     },
     "metadata":{
      
     },
     "output_type":"display_data"
    }
   ],
   "metadata":{
    "datalore":{
     "node_id":"jkF7Bhpq5T6e6atQ2nf3ji",
     "type":"CODE",
     "hide_input_from_viewers":true,
     "hide_output_from_viewers":true
    }
   }
  },
  {
   "cell_type":"markdown",
   "source":[
    "### Creating and Fitting Kmeans Model"
   ],
   "attachments":{
    
   },
   "metadata":{
    "datalore":{
     "node_id":"lMkNyDAOpPMCy3Ud1sp7O9",
     "type":"MD",
     "hide_input_from_viewers":false,
     "hide_output_from_viewers":false,
     "report_properties":{
      "rowId":"pX7KF8vdG2Z5uUk3Y8Gebm"
     }
    }
   }
  },
  {
   "cell_type":"markdown",
   "source":[
    "**TASK: Use a for loop to create and fit multiple KMeans models, testing from K=2-30 clusters. Keep track of the Sum of Squared Distances for each K value, then plot this out to create an \"elbow\" plot of K versus SSD. Optional: You may also want to create a bar plot showing the SSD difference from the previous cluster.**"
   ],
   "attachments":{
    
   },
   "metadata":{
    "datalore":{
     "node_id":"v49KY7xCEXvc8kDg8RIemA",
     "type":"MD",
     "hide_input_from_viewers":false,
     "hide_output_from_viewers":false,
     "report_properties":{
      "rowId":"e5g6IsXpPKknEByrx8AlpO"
     }
    }
   }
  },
  {
   "cell_type":"code",
   "source":[
    "from sklearn.cluster import KMeans"
   ],
   "execution_count":427,
   "outputs":[
    
   ],
   "metadata":{
    "datalore":{
     "node_id":"8jMO46UGuPFAhUT4fgja4e",
     "type":"CODE",
     "hide_input_from_viewers":false,
     "hide_output_from_viewers":false,
     "report_properties":{
      "rowId":"VyB2Xx4R8jf4gjsF5psvOr"
     }
    }
   }
  },
  {
   "cell_type":"code",
   "source":[
    "ssd = []\n",
    "\n",
    "for i in range(1,31):\n",
    "    kmeans_model = KMeans(n_clusters=i, n_init='auto')\n",
    "    kmeans_model.fit(X_scaled)\n",
    "    ssd.append(kmeans_model.inertia_)\n"
   ],
   "execution_count":428,
   "outputs":[
    
   ],
   "metadata":{
    "datalore":{
     "node_id":"1hCjTkJ3QUl6fLDq2XlsCD",
     "type":"CODE",
     "hide_input_from_viewers":true,
     "hide_output_from_viewers":true
    }
   }
  },
  {
   "cell_type":"code",
   "source":[
    "plt.plot(range(1,31), ssd, marker='o')\n",
    "plt.title('Elbow method')\n",
    "plt.xlabel('Number of clusters')\n",
    "plt.ylabel('Sum of squares distances')"
   ],
   "execution_count":429,
   "outputs":[
    {
     "data":{
      "text\/plain":[
       "Text(0, 0.5, 'Sum of squares distances')"
      ]
     },
     "metadata":{
      
     },
     "output_type":"display_data"
    },
    {
     "data":{
      "image\/png":"[encoded data removed]"
     },
     "metadata":{
      "image\/png":{
       
      }
     },
     "output_type":"display_data"
    }
   ],
   "metadata":{
    "datalore":{
     "node_id":"c9P1GuqqOTW8hMMQpR01y7",
     "type":"CODE",
     "hide_input_from_viewers":true,
     "hide_output_from_viewers":true
    }
   }
  },
  {
   "cell_type":"code",
   "source":[
    "differences_ssd = pd.Series(ssd).diff()"
   ],
   "execution_count":430,
   "outputs":[
    
   ],
   "metadata":{
    "datalore":{
     "node_id":"RWkOKHOlWk35Nor4BzAJd0",
     "type":"CODE",
     "hide_input_from_viewers":true,
     "hide_output_from_viewers":true
    }
   }
  },
  {
   "cell_type":"code",
   "source":[
    "sns.barplot(data=differences_ssd, x=differences_ssd.index, y=differences_ssd.values)\n",
    "\n",
    "plt.xlabel(\"Category\")\n",
    "plt.ylabel(\"Value\")\n",
    "plt.title(\"SSD differences from previous cluster\")"
   ],
   "execution_count":431,
   "outputs":[
    {
     "data":{
      "text\/plain":[
       "Text(0.5, 1.0, 'SSD differences from previous cluster')"
      ]
     },
     "metadata":{
      
     },
     "output_type":"display_data"
    },
    {
     "data":{
      "image\/png":"[encoded data removed]"
     },
     "metadata":{
      "image\/png":{
       
      }
     },
     "output_type":"display_data"
    }
   ],
   "metadata":{
    "datalore":{
     "node_id":"49oMGezEOeZiqBpB6BXl6S",
     "type":"CODE",
     "hide_input_from_viewers":true,
     "hide_output_from_viewers":true
    }
   }
  },
  {
   "cell_type":"markdown",
   "source":[
    "-----"
   ],
   "attachments":{
    
   },
   "metadata":{
    "datalore":{
     "node_id":"68JTgTdMfgXuocY6592NT8",
     "type":"MD",
     "hide_input_from_viewers":false,
     "hide_output_from_viewers":false,
     "report_properties":{
      "rowId":"maGamNQJECdSVUL25QuURA"
     }
    }
   }
  },
  {
   "cell_type":"markdown",
   "source":[
    "# Model Interpretation\n",
    "\n",
    "\n",
    "**TASK: What K value do you think is a good choice? Are there multiple reasonable choices? What features are helping define these cluster choices. As this is unsupervised learning, there is no 100% correct answer here. Please feel free to jump to the solutions for a full discussion on this!.**"
   ],
   "attachments":{
    
   },
   "metadata":{
    "datalore":{
     "node_id":"WAH1Ih0radGrJs7gjZHIxY",
     "type":"MD",
     "hide_input_from_viewers":false,
     "hide_output_from_viewers":false,
     "report_properties":{
      "rowId":"jyR2fNihdY7JYRRTe67sDL"
     }
    }
   }
  },
  {
   "cell_type":"code",
   "source":[
    "# Nothing to really code here, but choose a K value and see what features \n",
    "# are most correlated to belonging to a particular cluster!\n",
    "\n",
    "# Remember, there is no 100% correct answer here!"
   ],
   "execution_count":432,
   "outputs":[
    
   ],
   "metadata":{
    "datalore":{
     "node_id":"mw8JB2An17cMaBtmJSiJFj",
     "type":"CODE",
     "hide_input_from_viewers":false,
     "hide_output_from_viewers":false,
     "report_properties":{
      "rowId":"p5oSGuskotlTlY4cviLChu"
     }
    }
   }
  },
  {
   "cell_type":"markdown",
   "source":[
    "-----\n",
    "\n",
    "\n",
    "#### Example Interpretation: Choosing K=3\n",
    "\n",
    "**One could say that there is a significant drop off in SSD difference at K=3 (although we can see it continues to drop off past this). What would an analysis look like for K=3? Let's explore which features are important in the decision of 3 clusters!**"
   ],
   "attachments":{
    
   },
   "metadata":{
    "datalore":{
     "node_id":"I0svYbueR5Vi0tflDCI83M",
     "type":"MD",
     "hide_input_from_viewers":false,
     "hide_output_from_viewers":false,
     "report_properties":{
      "rowId":"Pwu2tdOMyZLkCle5N9GHcT"
     }
    }
   }
  },
  {
   "cell_type":"code",
   "source":[
    "model = KMeans(n_clusters=4, n_init='auto', random_state=42)\n",
    "cluster_labels = model.fit_predict(X_scaled)\n",
    "cluster_labels"
   ],
   "execution_count":448,
   "outputs":[
    {
     "data":{
      "text\/html":[
       "<pre>array([2, 3, 3, 3, 1, 2, 3, 3, 3, 0, 3, 1, 1, 0, 3, 3, 3, 3, 0, 1, 3, 2,\n",
       "       1, 2, 3, 3, 2, 3, 3, 3, 3, 2, 2, 2, 2, 2, 1, 3, 1, 2, 2, 3, 0, 3,\n",
       "       2, 2, 2, 3, 2, 3, 3, 3, 1, 2, 3, 3, 3, 3, 3, 2, 2, 3, 2, 1, 3, 1,\n",
       "       1, 3, 3, 2, 2, 3, 0, 1, 2, 1, 1, 1, 3, 3, 3, 3, 2, 2, 3, 2, 3, 1,\n",
       "       3, 1, 0, 3, 3, 3, 1, 1, 3, 1, 3, 1, 1, 3, 0, 2, 3, 3, 3, 3, 0, 2,\n",
       "       3, 3, 2, 2, 3, 1, 3, 1, 1, 3, 2, 2, 3, 3, 2, 1, 3, 3, 2, 3, 2, 3,\n",
       "       3, 0, 3, 3, 3, 2, 2, 3, 2, 1, 3, 3, 3, 3, 2, 2, 3, 1, 3, 2, 3, 3,\n",
       "       3, 3, 3, 3, 3, 1, 3, 3, 3, 3, 0, 2, 3, 3, 3, 1, 3, 3, 1, 3, 3, 2,\n",
       "       3, 2, 1, 3, 3, 3, 2, 2, 1, 3, 2, 3, 2, 1, 1, 3, 1, 0, 2, 3, 2, 3,\n",
       "       3, 3, 3, 0, 3, 3, 2, 0, 3, 1, 1, 3, 0, 3, 3, 3, 3, 3, 3, 3, 2, 2,\n",
       "       2], dtype=int32)<\/pre>"
      ]
     },
     "metadata":{
      
     },
     "output_type":"display_data"
    }
   ],
   "metadata":{
    "datalore":{
     "node_id":"bKyfnLzEVNjPAZtEHLodmt",
     "type":"CODE",
     "hide_input_from_viewers":false,
     "hide_output_from_viewers":false,
     "report_properties":{
      "rowId":"7xrFVNfJvM5YVBn9s3SxNK"
     }
    }
   }
  },
  {
   "cell_type":"code",
   "source":[
    
   ],
   "execution_count":null,
   "outputs":[
    
   ],
   "metadata":{
    "datalore":{
     "node_id":"flJvpRLXsX5Euq6XX6b8lD",
     "type":"CODE",
     "hide_input_from_viewers":false,
     "hide_output_from_viewers":false,
     "report_properties":{
      "rowId":"6UrpssNkHLN7xJSzTGwZNu"
     }
    }
   }
  },
  {
   "cell_type":"code",
   "source":[
    "len(X_scaled)"
   ],
   "execution_count":434,
   "outputs":[
    {
     "data":{
      "text\/plain":[
       "221"
      ]
     },
     "metadata":{
      
     },
     "output_type":"display_data"
    }
   ],
   "metadata":{
    "datalore":{
     "node_id":"8hwYf6TSO0NjXX2Ab5N7eF",
     "type":"CODE",
     "hide_input_from_viewers":true,
     "hide_output_from_viewers":true
    }
   }
  },
  {
   "cell_type":"code",
   "source":[
    "len(cluster_labels)"
   ],
   "execution_count":435,
   "outputs":[
    {
     "data":{
      "text\/plain":[
       "221"
      ]
     },
     "metadata":{
      
     },
     "output_type":"display_data"
    }
   ],
   "metadata":{
    "datalore":{
     "node_id":"sQ35X511bejqSi7K9ztCTG",
     "type":"CODE",
     "hide_input_from_viewers":true,
     "hide_output_from_viewers":true
    }
   }
  },
  {
   "cell_type":"code",
   "source":[
    "X['Cluster'] = cluster_labels"
   ],
   "execution_count":449,
   "outputs":[
    
   ],
   "metadata":{
    "datalore":{
     "node_id":"qw1EFMJWaT07eNkUEZta6u",
     "type":"CODE",
     "hide_input_from_viewers":true,
     "hide_output_from_viewers":true
    }
   }
  },
  {
   "cell_type":"code",
   "source":[
    "X.head()"
   ],
   "execution_count":450,
   "outputs":[
    {
     "data":{
      "text\/html":[
       "<div>\n",
       "<style scoped>\n",
       "    .dataframe tbody tr th:only-of-type {\n",
       "        vertical-align: middle;\n",
       "    }\n",
       "\n",
       "    .dataframe tbody tr th {\n",
       "        vertical-align: top;\n",
       "    }\n",
       "\n",
       "    .dataframe thead th {\n",
       "        text-align: right;\n",
       "    }\n",
       "<\/style>\n",
       "<table border=\"1\" class=\"dataframe\">\n",
       "  <thead>\n",
       "    <tr style=\"text-align: right;\">\n",
       "      <th><\/th>\n",
       "      <th>Population<\/th>\n",
       "      <th>Area (sq. mi.)<\/th>\n",
       "      <th>Pop. Density (per sq. mi.)<\/th>\n",
       "      <th>Coastline (coast\/area ratio)<\/th>\n",
       "      <th>Net migration<\/th>\n",
       "      <th>Infant mortality (per 1000 births)<\/th>\n",
       "      <th>GDP ($ per capita)<\/th>\n",
       "      <th>Literacy (%)<\/th>\n",
       "      <th>Phones (per 1000)<\/th>\n",
       "      <th>Arable (%)<\/th>\n",
       "      <th>...<\/th>\n",
       "      <th>Region_C.W. OF IND. STATES<\/th>\n",
       "      <th>Region_EASTERN EUROPE<\/th>\n",
       "      <th>Region_LATIN AMER. &amp; CARIB<\/th>\n",
       "      <th>Region_NEAR EAST<\/th>\n",
       "      <th>Region_NORTHERN AFRICA<\/th>\n",
       "      <th>Region_NORTHERN AMERICA<\/th>\n",
       "      <th>Region_OCEANIA<\/th>\n",
       "      <th>Region_SUB-SAHARAN AFRICA<\/th>\n",
       "      <th>Region_WESTERN EUROPE<\/th>\n",
       "      <th>Cluster<\/th>\n",
       "    <\/tr>\n",
       "  <\/thead>\n",
       "  <tbody>\n",
       "    <tr>\n",
       "      <th>0<\/th>\n",
       "      <td>31056997<\/td>\n",
       "      <td>647500<\/td>\n",
       "      <td>48.0<\/td>\n",
       "      <td>0.00<\/td>\n",
       "      <td>23.06<\/td>\n",
       "      <td>163.07<\/td>\n",
       "      <td>700.0<\/td>\n",
       "      <td>36.0<\/td>\n",
       "      <td>3.2<\/td>\n",
       "      <td>12.13<\/td>\n",
       "      <td>...<\/td>\n",
       "      <td>0<\/td>\n",
       "      <td>0<\/td>\n",
       "      <td>0<\/td>\n",
       "      <td>0<\/td>\n",
       "      <td>0<\/td>\n",
       "      <td>0<\/td>\n",
       "      <td>0<\/td>\n",
       "      <td>0<\/td>\n",
       "      <td>0<\/td>\n",
       "      <td>2<\/td>\n",
       "    <\/tr>\n",
       "    <tr>\n",
       "      <th>1<\/th>\n",
       "      <td>3581655<\/td>\n",
       "      <td>28748<\/td>\n",
       "      <td>124.6<\/td>\n",
       "      <td>1.26<\/td>\n",
       "      <td>-4.93<\/td>\n",
       "      <td>21.52<\/td>\n",
       "      <td>4500.0<\/td>\n",
       "      <td>86.5<\/td>\n",
       "      <td>71.2<\/td>\n",
       "      <td>21.09<\/td>\n",
       "      <td>...<\/td>\n",
       "      <td>0<\/td>\n",
       "      <td>1<\/td>\n",
       "      <td>0<\/td>\n",
       "      <td>0<\/td>\n",
       "      <td>0<\/td>\n",
       "      <td>0<\/td>\n",
       "      <td>0<\/td>\n",
       "      <td>0<\/td>\n",
       "      <td>0<\/td>\n",
       "      <td>3<\/td>\n",
       "    <\/tr>\n",
       "    <tr>\n",
       "      <th>2<\/th>\n",
       "      <td>32930091<\/td>\n",
       "      <td>2381740<\/td>\n",
       "      <td>13.8<\/td>\n",
       "      <td>0.04<\/td>\n",
       "      <td>-0.39<\/td>\n",
       "      <td>31.00<\/td>\n",
       "      <td>6000.0<\/td>\n",
       "      <td>70.0<\/td>\n",
       "      <td>78.1<\/td>\n",
       "      <td>3.22<\/td>\n",
       "      <td>...<\/td>\n",
       "      <td>0<\/td>\n",
       "      <td>0<\/td>\n",
       "      <td>0<\/td>\n",
       "      <td>0<\/td>\n",
       "      <td>1<\/td>\n",
       "      <td>0<\/td>\n",
       "      <td>0<\/td>\n",
       "      <td>0<\/td>\n",
       "      <td>0<\/td>\n",
       "      <td>3<\/td>\n",
       "    <\/tr>\n",
       "    <tr>\n",
       "      <th>3<\/th>\n",
       "      <td>57794<\/td>\n",
       "      <td>199<\/td>\n",
       "      <td>290.4<\/td>\n",
       "      <td>58.29<\/td>\n",
       "      <td>-20.71<\/td>\n",
       "      <td>9.27<\/td>\n",
       "      <td>8000.0<\/td>\n",
       "      <td>97.0<\/td>\n",
       "      <td>259.5<\/td>\n",
       "      <td>10.00<\/td>\n",
       "      <td>...<\/td>\n",
       "      <td>0<\/td>\n",
       "      <td>0<\/td>\n",
       "      <td>0<\/td>\n",
       "      <td>0<\/td>\n",
       "      <td>0<\/td>\n",
       "      <td>0<\/td>\n",
       "      <td>1<\/td>\n",
       "      <td>0<\/td>\n",
       "      <td>0<\/td>\n",
       "      <td>3<\/td>\n",
       "    <\/tr>\n",
       "    <tr>\n",
       "      <th>4<\/th>\n",
       "      <td>71201<\/td>\n",
       "      <td>468<\/td>\n",
       "      <td>152.1<\/td>\n",
       "      <td>0.00<\/td>\n",
       "      <td>6.60<\/td>\n",
       "      <td>4.05<\/td>\n",
       "      <td>19000.0<\/td>\n",
       "      <td>100.0<\/td>\n",
       "      <td>497.2<\/td>\n",
       "      <td>2.22<\/td>\n",
       "      <td>...<\/td>\n",
       "      <td>0<\/td>\n",
       "      <td>0<\/td>\n",
       "      <td>0<\/td>\n",
       "      <td>0<\/td>\n",
       "      <td>0<\/td>\n",
       "      <td>0<\/td>\n",
       "      <td>0<\/td>\n",
       "      <td>0<\/td>\n",
       "      <td>1<\/td>\n",
       "      <td>1<\/td>\n",
       "    <\/tr>\n",
       "  <\/tbody>\n",
       "<\/table>\n",
       "<p>5 rows × 30 columns<\/p>\n",
       "<\/div>"
      ]
     },
     "metadata":{
      
     },
     "output_type":"display_data"
    }
   ],
   "metadata":{
    "datalore":{
     "node_id":"edZo6JZ5vnK60Um975bfOz",
     "type":"CODE",
     "hide_input_from_viewers":true,
     "hide_output_from_viewers":true
    }
   }
  },
  {
   "cell_type":"code",
   "source":[
    "cluster_corr = X.corr()['Cluster']\n",
    "cluster_corr"
   ],
   "execution_count":451,
   "outputs":[
    {
     "data":{
      "text\/html":[
       "<pre>Population                                   -0.236362\n",
       "Area (sq. mi.)                               -0.248945\n",
       "Pop. Density (per sq. mi.)                   -0.134759\n",
       "Coastline (coast\/area ratio)                  0.089766\n",
       "Net migration                                -0.191353\n",
       "Infant mortality (per 1000 births)           -0.107877\n",
       "GDP ($ per capita)                           -0.324165\n",
       "Literacy (%)                                 -0.040956\n",
       "Phones (per 1000)                            -0.275004\n",
       "Arable (%)                                   -0.113358\n",
       "Crops (%)                                     0.262992\n",
       "Other (%)                                    -0.036669\n",
       "Climate                                      -0.185389\n",
       "Birthrate                                     0.086052\n",
       "Deathrate                                    -0.301965\n",
       "Agriculture                                  -0.064363\n",
       "Industry                                      0.060280\n",
       "Service                                      -0.008495\n",
       "Region_ASIA (EX. NEAR EAST)                  -0.028987\n",
       "Region_BALTICS                                0.096424\n",
       "Region_C.W. OF IND. STATES                   -0.562240\n",
       "Region_EASTERN EUROPE                         0.188121\n",
       "Region_LATIN AMER. & CARIB                    0.380022\n",
       "Region_NEAR EAST                              0.202801\n",
       "Region_NORTHERN AFRICA                        0.137312\n",
       "Region_NORTHERN AMERICA                      -0.196311\n",
       "Region_OCEANIA                                0.225965\n",
       "Region_SUB-SAHARAN AFRICA                    -0.060202\n",
       "Region_WESTERN EUROPE                        -0.471146\n",
       "Cluster                                       1.000000\n",
       "Name: Cluster, dtype: float64<\/pre>"
      ]
     },
     "metadata":{
      
     },
     "output_type":"display_data"
    }
   ],
   "metadata":{
    "datalore":{
     "node_id":"Wif79V3va1Tqick9PogN9G",
     "type":"CODE",
     "hide_input_from_viewers":true,
     "hide_output_from_viewers":true
    }
   }
  },
  {
   "cell_type":"code",
   "source":[
    "# it says 'Cluster not found in axis. correct the code \n",
    "cluster_corr = cluster_corr.drop('Cluster', axis=0, errors='ignore')\n",
    "cluster_corr = cluster_corr.sort_values()\n",
    "cluster_corr"
   ],
   "execution_count":453,
   "outputs":[
    {
     "data":{
      "text\/html":[
       "<pre>Region_C.W. OF IND. STATES                   -0.562240\n",
       "Region_WESTERN EUROPE                        -0.471146\n",
       "GDP ($ per capita)                           -0.324165\n",
       "Deathrate                                    -0.301965\n",
       "Phones (per 1000)                            -0.275004\n",
       "Area (sq. mi.)                               -0.248945\n",
       "Population                                   -0.236362\n",
       "Region_NORTHERN AMERICA                      -0.196311\n",
       "Net migration                                -0.191353\n",
       "Climate                                      -0.185389\n",
       "Pop. Density (per sq. mi.)                   -0.134759\n",
       "Arable (%)                                   -0.113358\n",
       "Infant mortality (per 1000 births)           -0.107877\n",
       "Agriculture                                  -0.064363\n",
       "Region_SUB-SAHARAN AFRICA                    -0.060202\n",
       "Literacy (%)                                 -0.040956\n",
       "Other (%)                                    -0.036669\n",
       "Region_ASIA (EX. NEAR EAST)                  -0.028987\n",
       "Service                                      -0.008495\n",
       "Industry                                      0.060280\n",
       "Birthrate                                     0.086052\n",
       "Coastline (coast\/area ratio)                  0.089766\n",
       "Region_BALTICS                                0.096424\n",
       "Region_NORTHERN AFRICA                        0.137312\n",
       "Region_EASTERN EUROPE                         0.188121\n",
       "Region_NEAR EAST                              0.202801\n",
       "Region_OCEANIA                                0.225965\n",
       "Crops (%)                                     0.262992\n",
       "Region_LATIN AMER. & CARIB                    0.380022\n",
       "Name: Cluster, dtype: float64<\/pre>"
      ]
     },
     "metadata":{
      
     },
     "output_type":"display_data"
    }
   ],
   "metadata":{
    "datalore":{
     "node_id":"FBlqRy1DBgEdykhMNbbSVk",
     "type":"CODE",
     "hide_input_from_viewers":true,
     "hide_output_from_viewers":true
    }
   }
  },
  {
   "cell_type":"code",
   "source":[
    "plt.figure(figsize=(12,6))\n",
    "sns.barplot(x=cluster_corr.index, y=cluster_corr.values, palette=\"viridis\")\n",
    "plt.title('Correlation of features with the Cluster')\n",
    "plt.xlabel('Features')\n",
    "plt.ylabel('Correlation')\n",
    "plt.xticks(rotation=90);"
   ],
   "execution_count":454,
   "outputs":[
    {
     "data":{
      "image\/png":"[encoded data removed]"
     },
     "metadata":{
      "image\/png":{
       
      }
     },
     "output_type":"display_data"
    }
   ],
   "metadata":{
    "datalore":{
     "node_id":"YFnAvMC2CoUcgRsEAHujkQ",
     "type":"CODE",
     "hide_input_from_viewers":true,
     "hide_output_from_viewers":true
    }
   }
  },
  {
   "cell_type":"code",
   "source":[
    
   ],
   "execution_count":null,
   "outputs":[
    
   ],
   "metadata":{
    "datalore":{
     "node_id":"a5wRmHcSd18kWmE5dAgi50",
     "type":"CODE",
     "hide_input_from_viewers":false,
     "hide_output_from_viewers":false,
     "report_properties":{
      "rowId":"xTsCBzS1ctLUIckb7w6ZcF"
     }
    }
   }
  },
  {
   "cell_type":"markdown",
   "source":[
    "------------\n",
    "-------------\n",
    "\n",
    "# BONUS CHALLGENGE:\n",
    "## Geographical Model Interpretation"
   ],
   "attachments":{
    
   },
   "metadata":{
    "datalore":{
     "node_id":"efkCubA6gYOErjknIpM8bN",
     "type":"MD",
     "hide_input_from_viewers":false,
     "hide_output_from_viewers":false,
     "report_properties":{
      "rowId":"RtQY7pQBBrqU2qAb7fzJwo"
     }
    }
   }
  },
  {
   "cell_type":"markdown",
   "source":[
    "The best way to interpret this model is through visualizing the clusters of countries on a map! **NOTE: THIS IS A BONUS SECTION.  YOU MAY WANT TO JUMP TO THE SOLUTIONS LECTURE FOR A FULL GUIDE, SINCE WE WILL COVER TOPICS NOT PREVIOUSLY DISCUSSED AND BE HAVING A NUANCED DISCUSSION ON PERFORMANCE!**\n",
    "\n",
    "----\n",
    "----\n",
    "\n",
    "**IF YOU GET STUCK, PLEASE CHECK OUT THE SOLUTIONS LECTURE. AS THIS IS OPTIONAL AND COVERS MANY TOPICS NOT SHOWN IN ANY PREVIOUS LECTURE**\n",
    "\n",
    "----\n",
    "----"
   ],
   "attachments":{
    
   },
   "metadata":{
    "datalore":{
     "node_id":"b8OEHjWwirFWUOHVJUkJ46",
     "type":"MD",
     "hide_input_from_viewers":false,
     "hide_output_from_viewers":false,
     "report_properties":{
      "rowId":"8ELQ03B62Rm9VfzfvV7dro"
     }
    }
   }
  },
  {
   "cell_type":"markdown",
   "source":[
    "**TASK: Create cluster labels for a chosen K value. Based on the solutions, we believe either K=3 or K=15 are reasonable choices. But feel free to choose differently and explore.**"
   ],
   "attachments":{
    
   },
   "metadata":{
    "datalore":{
     "node_id":"LOOKkRwV9DZKP4vOuQFBYp",
     "type":"MD",
     "hide_input_from_viewers":false,
     "hide_output_from_viewers":false,
     "report_properties":{
      "rowId":"7p9jz0DH2Zzd55FNyHKfli"
     }
    }
   }
  },
  {
   "cell_type":"code",
   "source":[
    "df_map = df.loc[:, ['Country']]"
   ],
   "execution_count":455,
   "outputs":[
    
   ],
   "metadata":{
    "datalore":{
     "node_id":"FwfneZm9qCThm0kHL3h4Zt",
     "type":"CODE",
     "hide_input_from_viewers":true,
     "hide_output_from_viewers":true
    }
   }
  },
  {
   "cell_type":"code",
   "source":[
    "df_map['Cluster'] = cluster_labels\n",
    "df_map"
   ],
   "execution_count":456,
   "outputs":[
    {
     "data":{
      "text\/html":[
       "<div>\n",
       "<style scoped>\n",
       "    .dataframe tbody tr th:only-of-type {\n",
       "        vertical-align: middle;\n",
       "    }\n",
       "\n",
       "    .dataframe tbody tr th {\n",
       "        vertical-align: top;\n",
       "    }\n",
       "\n",
       "    .dataframe thead th {\n",
       "        text-align: right;\n",
       "    }\n",
       "<\/style>\n",
       "<table border=\"1\" class=\"dataframe\">\n",
       "  <thead>\n",
       "    <tr style=\"text-align: right;\">\n",
       "      <th><\/th>\n",
       "      <th>Country<\/th>\n",
       "      <th>Cluster<\/th>\n",
       "    <\/tr>\n",
       "  <\/thead>\n",
       "  <tbody>\n",
       "    <tr>\n",
       "      <th>0<\/th>\n",
       "      <td>Afghanistan<\/td>\n",
       "      <td>2<\/td>\n",
       "    <\/tr>\n",
       "    <tr>\n",
       "      <th>1<\/th>\n",
       "      <td>Albania<\/td>\n",
       "      <td>3<\/td>\n",
       "    <\/tr>\n",
       "    <tr>\n",
       "      <th>2<\/th>\n",
       "      <td>Algeria<\/td>\n",
       "      <td>3<\/td>\n",
       "    <\/tr>\n",
       "    <tr>\n",
       "      <th>3<\/th>\n",
       "      <td>American Samoa<\/td>\n",
       "      <td>3<\/td>\n",
       "    <\/tr>\n",
       "    <tr>\n",
       "      <th>4<\/th>\n",
       "      <td>Andorra<\/td>\n",
       "      <td>1<\/td>\n",
       "    <\/tr>\n",
       "    <tr>\n",
       "      <th>...<\/th>\n",
       "      <td>...<\/td>\n",
       "      <td>...<\/td>\n",
       "    <\/tr>\n",
       "    <tr>\n",
       "      <th>222<\/th>\n",
       "      <td>West Bank<\/td>\n",
       "      <td>3<\/td>\n",
       "    <\/tr>\n",
       "    <tr>\n",
       "      <th>223<\/th>\n",
       "      <td>Western Sahara<\/td>\n",
       "      <td>3<\/td>\n",
       "    <\/tr>\n",
       "    <tr>\n",
       "      <th>224<\/th>\n",
       "      <td>Yemen<\/td>\n",
       "      <td>2<\/td>\n",
       "    <\/tr>\n",
       "    <tr>\n",
       "      <th>225<\/th>\n",
       "      <td>Zambia<\/td>\n",
       "      <td>2<\/td>\n",
       "    <\/tr>\n",
       "    <tr>\n",
       "      <th>226<\/th>\n",
       "      <td>Zimbabwe<\/td>\n",
       "      <td>2<\/td>\n",
       "    <\/tr>\n",
       "  <\/tbody>\n",
       "<\/table>\n",
       "<p>221 rows × 2 columns<\/p>\n",
       "<\/div>"
      ]
     },
     "metadata":{
      
     },
     "output_type":"display_data"
    }
   ],
   "metadata":{
    "datalore":{
     "node_id":"7dVNJ1xzi63c22GysBHZj6",
     "type":"CODE",
     "hide_input_from_viewers":true,
     "hide_output_from_viewers":true
    }
   }
  },
  {
   "cell_type":"code",
   "source":[
    "# rename C1 column to Country \n",
    "country_codes = pd.read_csv('country_iso_codes.csv')\n",
    "country_codes"
   ],
   "execution_count":457,
   "outputs":[
    {
     "data":{
      "text\/html":[
       "<div>\n",
       "<style scoped>\n",
       "    .dataframe tbody tr th:only-of-type {\n",
       "        vertical-align: middle;\n",
       "    }\n",
       "\n",
       "    .dataframe tbody tr th {\n",
       "        vertical-align: top;\n",
       "    }\n",
       "\n",
       "    .dataframe thead th {\n",
       "        text-align: right;\n",
       "    }\n",
       "<\/style>\n",
       "<table border=\"1\" class=\"dataframe\">\n",
       "  <thead>\n",
       "    <tr style=\"text-align: right;\">\n",
       "      <th><\/th>\n",
       "      <th>Country<\/th>\n",
       "      <th>ISO Code<\/th>\n",
       "    <\/tr>\n",
       "  <\/thead>\n",
       "  <tbody>\n",
       "    <tr>\n",
       "      <th>0<\/th>\n",
       "      <td>Afghanistan<\/td>\n",
       "      <td>AFG<\/td>\n",
       "    <\/tr>\n",
       "    <tr>\n",
       "      <th>1<\/th>\n",
       "      <td>Akrotiri and Dhekelia – See United Kingdom, The<\/td>\n",
       "      <td>Akrotiri and Dhekelia – See United Kingdom, The<\/td>\n",
       "    <\/tr>\n",
       "    <tr>\n",
       "      <th>2<\/th>\n",
       "      <td>Åland Islands<\/td>\n",
       "      <td>ALA<\/td>\n",
       "    <\/tr>\n",
       "    <tr>\n",
       "      <th>3<\/th>\n",
       "      <td>Albania<\/td>\n",
       "      <td>ALB<\/td>\n",
       "    <\/tr>\n",
       "    <tr>\n",
       "      <th>4<\/th>\n",
       "      <td>Algeria<\/td>\n",
       "      <td>DZA<\/td>\n",
       "    <\/tr>\n",
       "    <tr>\n",
       "      <th>...<\/th>\n",
       "      <td>...<\/td>\n",
       "      <td>...<\/td>\n",
       "    <\/tr>\n",
       "    <tr>\n",
       "      <th>296<\/th>\n",
       "      <td>Congo, Dem. Rep.<\/td>\n",
       "      <td>COD<\/td>\n",
       "    <\/tr>\n",
       "    <tr>\n",
       "      <th>297<\/th>\n",
       "      <td>Congo, Repub. of the<\/td>\n",
       "      <td>COG<\/td>\n",
       "    <\/tr>\n",
       "    <tr>\n",
       "      <th>298<\/th>\n",
       "      <td>Tanzania<\/td>\n",
       "      <td>TZA<\/td>\n",
       "    <\/tr>\n",
       "    <tr>\n",
       "      <th>299<\/th>\n",
       "      <td>Central African Rep.<\/td>\n",
       "      <td>CAF<\/td>\n",
       "    <\/tr>\n",
       "    <tr>\n",
       "      <th>300<\/th>\n",
       "      <td>Cote d'Ivoire<\/td>\n",
       "      <td>CIV<\/td>\n",
       "    <\/tr>\n",
       "  <\/tbody>\n",
       "<\/table>\n",
       "<p>301 rows × 2 columns<\/p>\n",
       "<\/div>"
      ]
     },
     "metadata":{
      
     },
     "output_type":"display_data"
    }
   ],
   "metadata":{
    "datalore":{
     "node_id":"glGmSf8KouKkKD49yo1MKj",
     "type":"CODE",
     "hide_input_from_viewers":true,
     "hide_output_from_viewers":true
    }
   }
  },
  {
   "cell_type":"code",
   "source":[
    "#Checking for country names that differ. Then some of the major countries are hardcode renamed.\n",
    "\n",
    "unique_rows = df_map[~df_map['Country'].isin(country_codes['Country'])]\n",
    "unique_rows"
   ],
   "execution_count":458,
   "outputs":[
    {
     "data":{
      "text\/html":[
       "<div>\n",
       "<style scoped>\n",
       "    .dataframe tbody tr th:only-of-type {\n",
       "        vertical-align: middle;\n",
       "    }\n",
       "\n",
       "    .dataframe tbody tr th {\n",
       "        vertical-align: top;\n",
       "    }\n",
       "\n",
       "    .dataframe thead th {\n",
       "        text-align: right;\n",
       "    }\n",
       "<\/style>\n",
       "<table border=\"1\" class=\"dataframe\">\n",
       "  <thead>\n",
       "    <tr style=\"text-align: right;\">\n",
       "      <th><\/th>\n",
       "      <th>Country<\/th>\n",
       "      <th>Cluster<\/th>\n",
       "    <\/tr>\n",
       "  <\/thead>\n",
       "  <tbody>\n",
       "    <tr>\n",
       "      <th>7<\/th>\n",
       "      <td>Antigua &amp; Barbuda<\/td>\n",
       "      <td>3<\/td>\n",
       "    <\/tr>\n",
       "    <tr>\n",
       "      <th>14<\/th>\n",
       "      <td>Bahamas, The<\/td>\n",
       "      <td>3<\/td>\n",
       "    <\/tr>\n",
       "    <tr>\n",
       "      <th>25<\/th>\n",
       "      <td>Bosnia &amp; Herzegovina<\/td>\n",
       "      <td>3<\/td>\n",
       "    <\/tr>\n",
       "    <tr>\n",
       "      <th>28<\/th>\n",
       "      <td>British Virgin Is.<\/td>\n",
       "      <td>3<\/td>\n",
       "    <\/tr>\n",
       "    <tr>\n",
       "      <th>29<\/th>\n",
       "      <td>Brunei<\/td>\n",
       "      <td>3<\/td>\n",
       "    <\/tr>\n",
       "    <tr>\n",
       "      <th>37<\/th>\n",
       "      <td>Cape Verde<\/td>\n",
       "      <td>3<\/td>\n",
       "    <\/tr>\n",
       "    <tr>\n",
       "      <th>38<\/th>\n",
       "      <td>Cayman Islands<\/td>\n",
       "      <td>1<\/td>\n",
       "    <\/tr>\n",
       "    <tr>\n",
       "      <th>44<\/th>\n",
       "      <td>Comoros<\/td>\n",
       "      <td>2<\/td>\n",
       "    <\/tr>\n",
       "    <tr>\n",
       "      <th>53<\/th>\n",
       "      <td>Czech Republic<\/td>\n",
       "      <td>3<\/td>\n",
       "    <\/tr>\n",
       "    <tr>\n",
       "      <th>57<\/th>\n",
       "      <td>Dominican Republic<\/td>\n",
       "      <td>3<\/td>\n",
       "    <\/tr>\n",
       "    <tr>\n",
       "      <th>66<\/th>\n",
       "      <td>Faroe Islands<\/td>\n",
       "      <td>1<\/td>\n",
       "    <\/tr>\n",
       "    <tr>\n",
       "      <th>73<\/th>\n",
       "      <td>Gambia, The<\/td>\n",
       "      <td>2<\/td>\n",
       "    <\/tr>\n",
       "    <tr>\n",
       "      <th>74<\/th>\n",
       "      <td>Gaza Strip<\/td>\n",
       "      <td>3<\/td>\n",
       "    <\/tr>\n",
       "    <tr>\n",
       "      <th>122<\/th>\n",
       "      <td>Macau<\/td>\n",
       "      <td>1<\/td>\n",
       "    <\/tr>\n",
       "    <tr>\n",
       "      <th>123<\/th>\n",
       "      <td>Macedonia<\/td>\n",
       "      <td>3<\/td>\n",
       "    <\/tr>\n",
       "    <tr>\n",
       "      <th>130<\/th>\n",
       "      <td>Marshall Islands<\/td>\n",
       "      <td>3<\/td>\n",
       "    <\/tr>\n",
       "    <tr>\n",
       "      <th>136<\/th>\n",
       "      <td>Micronesia, Fed. St.<\/td>\n",
       "      <td>3<\/td>\n",
       "    <\/tr>\n",
       "    <tr>\n",
       "      <th>137<\/th>\n",
       "      <td>Moldova<\/td>\n",
       "      <td>0<\/td>\n",
       "    <\/tr>\n",
       "    <tr>\n",
       "      <th>146<\/th>\n",
       "      <td>Netherlands<\/td>\n",
       "      <td>1<\/td>\n",
       "    <\/tr>\n",
       "    <tr>\n",
       "      <th>147<\/th>\n",
       "      <td>Netherlands Antilles<\/td>\n",
       "      <td>3<\/td>\n",
       "    <\/tr>\n",
       "    <tr>\n",
       "      <th>153<\/th>\n",
       "      <td>N. Mariana Islands<\/td>\n",
       "      <td>3<\/td>\n",
       "    <\/tr>\n",
       "    <tr>\n",
       "      <th>162<\/th>\n",
       "      <td>Philippines<\/td>\n",
       "      <td>3<\/td>\n",
       "    <\/tr>\n",
       "    <tr>\n",
       "      <th>167<\/th>\n",
       "      <td>Reunion<\/td>\n",
       "      <td>3<\/td>\n",
       "    <\/tr>\n",
       "    <tr>\n",
       "      <th>171<\/th>\n",
       "      <td>Saint Helena<\/td>\n",
       "      <td>3<\/td>\n",
       "    <\/tr>\n",
       "    <tr>\n",
       "      <th>172<\/th>\n",
       "      <td>Saint Kitts &amp; Nevis<\/td>\n",
       "      <td>3<\/td>\n",
       "    <\/tr>\n",
       "    <tr>\n",
       "      <th>174<\/th>\n",
       "      <td>St Pierre &amp; Miquelon<\/td>\n",
       "      <td>1<\/td>\n",
       "    <\/tr>\n",
       "    <tr>\n",
       "      <th>178<\/th>\n",
       "      <td>Sao Tome &amp; Principe<\/td>\n",
       "      <td>3<\/td>\n",
       "    <\/tr>\n",
       "    <tr>\n",
       "      <th>194<\/th>\n",
       "      <td>Swaziland<\/td>\n",
       "      <td>2<\/td>\n",
       "    <\/tr>\n",
       "    <tr>\n",
       "      <th>197<\/th>\n",
       "      <td>Syria<\/td>\n",
       "      <td>3<\/td>\n",
       "    <\/tr>\n",
       "    <tr>\n",
       "      <th>198<\/th>\n",
       "      <td>Taiwan<\/td>\n",
       "      <td>1<\/td>\n",
       "    <\/tr>\n",
       "    <tr>\n",
       "      <th>204<\/th>\n",
       "      <td>Trinidad &amp; Tobago<\/td>\n",
       "      <td>3<\/td>\n",
       "    <\/tr>\n",
       "    <tr>\n",
       "      <th>208<\/th>\n",
       "      <td>Turks &amp; Caicos Is<\/td>\n",
       "      <td>3<\/td>\n",
       "    <\/tr>\n",
       "    <tr>\n",
       "      <th>212<\/th>\n",
       "      <td>United Arab Emirates<\/td>\n",
       "      <td>3<\/td>\n",
       "    <\/tr>\n",
       "    <tr>\n",
       "      <th>220<\/th>\n",
       "      <td>Virgin Islands<\/td>\n",
       "      <td>3<\/td>\n",
       "    <\/tr>\n",
       "    <tr>\n",
       "      <th>222<\/th>\n",
       "      <td>West Bank<\/td>\n",
       "      <td>3<\/td>\n",
       "    <\/tr>\n",
       "    <tr>\n",
       "      <th>223<\/th>\n",
       "      <td>Western Sahara<\/td>\n",
       "      <td>3<\/td>\n",
       "    <\/tr>\n",
       "  <\/tbody>\n",
       "<\/table>\n",
       "<\/div>"
      ]
     },
     "metadata":{
      
     },
     "output_type":"display_data"
    }
   ],
   "metadata":{
    "datalore":{
     "node_id":"v6uompPESWqikPNjUjZKTT",
     "type":"CODE",
     "hide_input_from_viewers":true,
     "hide_output_from_viewers":true
    }
   }
  },
  {
   "cell_type":"code",
   "source":[
    "#Replace some counrties names\n",
    "country_map = {'Antigua & Barbuda': 'Antigua and Barbuda',\n",
    "               'Bahamas, The': 'Bahamas (the)',\n",
    "               'Bolivia': 'Bolivia (Plurinational State of',\n",
    "               'Czech Republic': 'Czechia [i]',\n",
    "               'Netherlands': 'Netherlands (the)',\n",
    "               'United Arab Emirates': 'United Arab Emirates (the)',\n",
    "               'Philippines': 'Philippines (the)',\n",
    "               'Syria': 'Syrian Arab Republic (the) [x]',\n",
    "}\n",
    "df_map['Country'] = df_map['Country'].replace(country_map)"
   ],
   "execution_count":459,
   "outputs":[
    
   ],
   "metadata":{
    "datalore":{
     "node_id":"VrPemP0GHpAp9BJAZIcxbG",
     "type":"CODE",
     "hide_input_from_viewers":true,
     "hide_output_from_viewers":true
    }
   }
  },
  {
   "cell_type":"code",
   "source":[
    "df_map = df_map.merge(country_codes, on='Country')\n",
    "df_map"
   ],
   "execution_count":460,
   "outputs":[
    {
     "data":{
      "text\/html":[
       "<div>\n",
       "<style scoped>\n",
       "    .dataframe tbody tr th:only-of-type {\n",
       "        vertical-align: middle;\n",
       "    }\n",
       "\n",
       "    .dataframe tbody tr th {\n",
       "        vertical-align: top;\n",
       "    }\n",
       "\n",
       "    .dataframe thead th {\n",
       "        text-align: right;\n",
       "    }\n",
       "<\/style>\n",
       "<table border=\"1\" class=\"dataframe\">\n",
       "  <thead>\n",
       "    <tr style=\"text-align: right;\">\n",
       "      <th><\/th>\n",
       "      <th>Country<\/th>\n",
       "      <th>Cluster<\/th>\n",
       "      <th>ISO Code<\/th>\n",
       "    <\/tr>\n",
       "  <\/thead>\n",
       "  <tbody>\n",
       "    <tr>\n",
       "      <th>0<\/th>\n",
       "      <td>Afghanistan<\/td>\n",
       "      <td>2<\/td>\n",
       "      <td>AFG<\/td>\n",
       "    <\/tr>\n",
       "    <tr>\n",
       "      <th>1<\/th>\n",
       "      <td>Albania<\/td>\n",
       "      <td>3<\/td>\n",
       "      <td>ALB<\/td>\n",
       "    <\/tr>\n",
       "    <tr>\n",
       "      <th>2<\/th>\n",
       "      <td>Algeria<\/td>\n",
       "      <td>3<\/td>\n",
       "      <td>DZA<\/td>\n",
       "    <\/tr>\n",
       "    <tr>\n",
       "      <th>3<\/th>\n",
       "      <td>American Samoa<\/td>\n",
       "      <td>3<\/td>\n",
       "      <td>ASM<\/td>\n",
       "    <\/tr>\n",
       "    <tr>\n",
       "      <th>4<\/th>\n",
       "      <td>Andorra<\/td>\n",
       "      <td>1<\/td>\n",
       "      <td>AND<\/td>\n",
       "    <\/tr>\n",
       "    <tr>\n",
       "      <th>...<\/th>\n",
       "      <td>...<\/td>\n",
       "      <td>...<\/td>\n",
       "      <td>...<\/td>\n",
       "    <\/tr>\n",
       "    <tr>\n",
       "      <th>186<\/th>\n",
       "      <td>Vietnam<\/td>\n",
       "      <td>3<\/td>\n",
       "      <td>VNM<\/td>\n",
       "    <\/tr>\n",
       "    <tr>\n",
       "      <th>187<\/th>\n",
       "      <td>Wallis and Futuna<\/td>\n",
       "      <td>3<\/td>\n",
       "      <td>WLF<\/td>\n",
       "    <\/tr>\n",
       "    <tr>\n",
       "      <th>188<\/th>\n",
       "      <td>Yemen<\/td>\n",
       "      <td>2<\/td>\n",
       "      <td>YEM<\/td>\n",
       "    <\/tr>\n",
       "    <tr>\n",
       "      <th>189<\/th>\n",
       "      <td>Zambia<\/td>\n",
       "      <td>2<\/td>\n",
       "      <td>ZMB<\/td>\n",
       "    <\/tr>\n",
       "    <tr>\n",
       "      <th>190<\/th>\n",
       "      <td>Zimbabwe<\/td>\n",
       "      <td>2<\/td>\n",
       "      <td>ZWE<\/td>\n",
       "    <\/tr>\n",
       "  <\/tbody>\n",
       "<\/table>\n",
       "<p>191 rows × 3 columns<\/p>\n",
       "<\/div>"
      ]
     },
     "metadata":{
      
     },
     "output_type":"display_data"
    }
   ],
   "metadata":{
    "datalore":{
     "node_id":"akj1UCsUQUMKin2cdXysSB",
     "type":"CODE",
     "hide_input_from_viewers":true,
     "hide_output_from_viewers":true
    }
   }
  },
  {
   "cell_type":"code",
   "source":[
    "import plotly.express as px\n",
    "plt.figure(figsize=(12,6))\n",
    "fig = px.choropleth(df_map, locations=\"ISO Code\", color=\"Cluster\", title=\"Clusters\", color_continuous_scale=px.colors.sequential.matter, hover_name='Country')\n",
    "fig.show()"
   ],
   "execution_count":461,
   "outputs":[
    {
     "data":{
      "application\/vnd.plotly.v1+json":{
       "data":[
        {
         "coloraxis":"coloraxis",
         "geo":"geo",
         "hovertemplate":"<b>%{hovertext}<\/b><br><br>ISO Code=%{location}<br>Cluster=%{z}<extra><\/extra>",
         "hovertext":[
          "Afghanistan",
          "Albania",
          "Algeria",
          "American Samoa",
          "Andorra",
          "Angola",
          "Anguilla",
          "Antigua and Barbuda",
          "Argentina",
          "Armenia",
          "Aruba",
          "Australia",
          "Austria",
          "Azerbaijan",
          "Bahamas (the)",
          "Bahrain",
          "Bangladesh",
          "Barbados",
          "Belarus",
          "Belgium",
          "Belize",
          "Benin",
          "Bermuda",
          "Bhutan",
          "Botswana",
          "Brazil",
          "Bulgaria",
          "Burkina Faso",
          "Burma",
          "Burundi",
          "Cambodia",
          "Cameroon",
          "Canada",
          "Central African Rep.",
          "Chad",
          "Chile",
          "China",
          "Colombia",
          "Congo, Dem. Rep.",
          "Congo, Repub. of the",
          "Costa Rica",
          "Cote d'Ivoire",
          "Croatia",
          "Cuba",
          "Czechia [i]",
          "Denmark",
          "Djibouti",
          "Dominica",
          "Ecuador",
          "Egypt",
          "El Salvador",
          "Equatorial Guinea",
          "Eritrea",
          "Estonia",
          "Ethiopia",
          "Fiji",
          "Finland",
          "France",
          "French Guiana",
          "French Polynesia",
          "Gabon",
          "Georgia",
          "Germany",
          "Ghana",
          "Gibraltar",
          "Greece",
          "Greenland",
          "Grenada",
          "Guadeloupe",
          "Guam",
          "Guatemala",
          "Guinea",
          "Guinea-Bissau",
          "Guyana",
          "Haiti",
          "Honduras",
          "Hong Kong",
          "Hungary",
          "Iceland",
          "India",
          "Indonesia",
          "Iran",
          "Iraq",
          "Ireland",
          "Isle of Man",
          "Israel",
          "Italy",
          "Jamaica",
          "Japan",
          "Jersey",
          "Jordan",
          "Kazakhstan",
          "Kenya",
          "Kiribati",
          "Korea, North",
          "Korea, South",
          "Kuwait",
          "Kyrgyzstan",
          "Laos",
          "Latvia",
          "Lebanon",
          "Lesotho",
          "Liberia",
          "Libya",
          "Liechtenstein",
          "Lithuania",
          "Luxembourg",
          "Madagascar",
          "Malawi",
          "Malaysia",
          "Maldives",
          "Mali",
          "Malta",
          "Martinique",
          "Mauritania",
          "Mauritius",
          "Mayotte",
          "Mexico",
          "Mongolia",
          "Montserrat",
          "Morocco",
          "Mozambique",
          "Namibia",
          "Nauru",
          "Nepal",
          "Netherlands (the)",
          "New Caledonia",
          "New Zealand",
          "Nicaragua",
          "Niger",
          "Nigeria",
          "Norway",
          "Oman",
          "Pakistan",
          "Palau",
          "Panama",
          "Papua New Guinea",
          "Paraguay",
          "Peru",
          "Philippines (the)",
          "Poland",
          "Portugal",
          "Puerto Rico",
          "Qatar",
          "Romania",
          "Russia",
          "Rwanda",
          "Saint Lucia",
          "Saint Vincent and the Grenadines",
          "Samoa",
          "San Marino",
          "Saudi Arabia",
          "Senegal",
          "Seychelles",
          "Sierra Leone",
          "Singapore",
          "Slovakia",
          "Slovenia",
          "Solomon Islands",
          "Somalia",
          "South Africa",
          "Spain",
          "Sri Lanka",
          "Sudan",
          "Suriname",
          "Sweden",
          "Switzerland",
          "Syrian Arab Republic (the) [x]",
          "Tajikistan",
          "Tanzania",
          "Thailand",
          "Togo",
          "Tonga",
          "Tunisia",
          "Turkey",
          "Turkmenistan",
          "Tuvalu",
          "Uganda",
          "Ukraine",
          "United Arab Emirates (the)",
          "United Kingdom",
          "United States",
          "Uruguay",
          "Uzbekistan",
          "Vanuatu",
          "Venezuela",
          "Vietnam",
          "Wallis and Futuna",
          "Yemen",
          "Zambia",
          "Zimbabwe"
         ],
         "locations":[
          "AFG",
          "ALB",
          "DZA",
          "ASM",
          "AND",
          "AGO",
          "AIA",
          "ATG",
          "ARG",
          "ARM",
          "ABW",
          "AUS",
          "AUT",
          "AZE",
          "BHS",
          "BHR",
          "BGD",
          "BRB",
          "BLR",
          "BEL",
          "BLZ",
          "BEN",
          "BMU",
          "BTN",
          "BWA",
          "BRA",
          "BGR",
          "BFA",
          "MMR",
          "BDI",
          "KHM",
          "CMR",
          "CAN",
          "CAF",
          "TCD",
          "CHL",
          "CHN",
          "COL",
          "COD",
          "COG",
          "CRI",
          "CIV",
          "HRV",
          "CUB",
          "CZE",
          "DNK",
          "DJI",
          "DMA",
          "ECU",
          "EGY",
          "SLV",
          "GNQ",
          "ERI",
          "EST",
          "ETH",
          "FJI",
          "FIN",
          "FRA",
          "GUF",
          "PYF",
          "GAB",
          "GEO",
          "DEU",
          "GHA",
          "GIB",
          "GRC",
          "GRL",
          "GRD",
          "GLP",
          "GUM",
          "GTM",
          "GIN",
          "GNB",
          "GUY",
          "HTI",
          "HND",
          "HKG",
          "HUN",
          "ISL",
          "IND",
          "IDN",
          "IRN",
          "IRQ",
          "IRL",
          "IMN",
          "ISR",
          "ITA",
          "JAM",
          "JPN",
          "JEY",
          "JOR",
          "KAZ",
          "KEN",
          "KIR",
          "PRK",
          "KOR",
          "KWT",
          "KGZ",
          "LAO",
          "LVA",
          "LBN",
          "LSO",
          "LBR",
          "LBY",
          "LIE",
          "LTU",
          "LUX",
          "MDG",
          "MWI",
          "MYS",
          "MDV",
          "MLI",
          "MLT",
          "MTQ",
          "MRT",
          "MUS",
          "MYT",
          "MEX",
          "MNG",
          "MSR",
          "MAR",
          "MOZ",
          "NAM",
          "NRU",
          "NPL",
          "NLD",
          "NCL",
          "NZL",
          "NIC",
          "NER",
          "NGA",
          "NOR",
          "OMN",
          "PAK",
          "PLW",
          "PAN",
          "PNG",
          "PRY",
          "PER",
          "PHL",
          "POL",
          "PRT",
          "PRI",
          "QAT",
          "ROU",
          "RUS",
          "RWA",
          "LCA",
          "VCT",
          "WSM",
          "SMR",
          "SAU",
          "SEN",
          "SYC",
          "SLE",
          "SGP",
          "SVK",
          "SVN",
          "SLB",
          "SOM",
          "ZAF",
          "ESP",
          "LKA",
          "SDN",
          "SUR",
          "SWE",
          "CHE",
          "SYR",
          "TJK",
          "TZA",
          "THA",
          "TGO",
          "TON",
          "TUN",
          "TUR",
          "TKM",
          "TUV",
          "UGA",
          "UKR",
          "ARE",
          "GBR",
          "USA",
          "URY",
          "UZB",
          "VUT",
          "VEN",
          "VNM",
          "WLF",
          "YEM",
          "ZMB",
          "ZWE"
         ],
         "name":"",
         "z":[
          2,
          3,
          3,
          3,
          1,
          2,
          3,
          3,
          3,
          0,
          3,
          1,
          1,
          0,
          3,
          3,
          3,
          3,
          0,
          1,
          3,
          2,
          1,
          2,
          2,
          3,
          3,
          2,
          2,
          2,
          2,
          2,
          1,
          2,
          2,
          3,
          0,
          3,
          2,
          2,
          3,
          2,
          3,
          3,
          3,
          1,
          2,
          3,
          3,
          3,
          3,
          2,
          2,
          3,
          2,
          3,
          1,
          1,
          3,
          3,
          2,
          0,
          1,
          2,
          1,
          1,
          1,
          3,
          3,
          3,
          3,
          2,
          2,
          3,
          2,
          3,
          1,
          3,
          1,
          0,
          3,
          3,
          3,
          1,
          1,
          3,
          1,
          3,
          1,
          1,
          3,
          0,
          2,
          3,
          3,
          3,
          3,
          0,
          2,
          3,
          3,
          2,
          2,
          3,
          1,
          3,
          1,
          2,
          2,
          3,
          3,
          2,
          1,
          3,
          2,
          3,
          2,
          3,
          3,
          3,
          3,
          2,
          2,
          3,
          2,
          1,
          3,
          3,
          3,
          2,
          2,
          1,
          3,
          2,
          3,
          3,
          3,
          3,
          3,
          3,
          3,
          1,
          3,
          3,
          3,
          0,
          2,
          3,
          3,
          3,
          1,
          3,
          2,
          3,
          2,
          1,
          3,
          3,
          3,
          2,
          2,
          1,
          3,
          2,
          3,
          1,
          1,
          3,
          0,
          2,
          3,
          2,
          3,
          3,
          3,
          0,
          3,
          2,
          0,
          3,
          1,
          1,
          3,
          0,
          3,
          3,
          3,
          3,
          2,
          2,
          2
         ],
         "type":"choropleth"
        }
       ],
       "layout":{
        "template":{
         "data":{
          "histogram2dcontour":[
           {
            "type":"histogram2dcontour",
            "colorbar":{
             "outlinewidth":0,
             "ticks":""
            },
            "colorscale":[
             [
              0,
              "#0d0887"
             ],
             [
              0.1111111111111111,
              "#46039f"
             ],
             [
              0.2222222222222222,
              "#7201a8"
             ],
             [
              0.3333333333333333,
              "#9c179e"
             ],
             [
              0.4444444444444444,
              "#bd3786"
             ],
             [
              0.5555555555555556,
              "#d8576b"
             ],
             [
              0.6666666666666666,
              "#ed7953"
             ],
             [
              0.7777777777777778,
              "#fb9f3a"
             ],
             [
              0.8888888888888888,
              "#fdca26"
             ],
             [
              1,
              "#f0f921"
             ]
            ]
           }
          ],
          "choropleth":[
           {
            "type":"choropleth",
            "colorbar":{
             "outlinewidth":0,
             "ticks":""
            }
           }
          ],
          "histogram2d":[
           {
            "type":"histogram2d",
            "colorbar":{
             "outlinewidth":0,
             "ticks":""
            },
            "colorscale":[
             [
              0,
              "#0d0887"
             ],
             [
              0.1111111111111111,
              "#46039f"
             ],
             [
              0.2222222222222222,
              "#7201a8"
             ],
             [
              0.3333333333333333,
              "#9c179e"
             ],
             [
              0.4444444444444444,
              "#bd3786"
             ],
             [
              0.5555555555555556,
              "#d8576b"
             ],
             [
              0.6666666666666666,
              "#ed7953"
             ],
             [
              0.7777777777777778,
              "#fb9f3a"
             ],
             [
              0.8888888888888888,
              "#fdca26"
             ],
             [
              1,
              "#f0f921"
             ]
            ]
           }
          ],
          "heatmap":[
           {
            "type":"heatmap",
            "colorbar":{
             "outlinewidth":0,
             "ticks":""
            },
            "colorscale":[
             [
              0,
              "#0d0887"
             ],
             [
              0.1111111111111111,
              "#46039f"
             ],
             [
              0.2222222222222222,
              "#7201a8"
             ],
             [
              0.3333333333333333,
              "#9c179e"
             ],
             [
              0.4444444444444444,
              "#bd3786"
             ],
             [
              0.5555555555555556,
              "#d8576b"
             ],
             [
              0.6666666666666666,
              "#ed7953"
             ],
             [
              0.7777777777777778,
              "#fb9f3a"
             ],
             [
              0.8888888888888888,
              "#fdca26"
             ],
             [
              1,
              "#f0f921"
             ]
            ]
           }
          ],
          "heatmapgl":[
           {
            "type":"heatmapgl",
            "colorbar":{
             "outlinewidth":0,
             "ticks":""
            },
            "colorscale":[
             [
              0,
              "#0d0887"
             ],
             [
              0.1111111111111111,
              "#46039f"
             ],
             [
              0.2222222222222222,
              "#7201a8"
             ],
             [
              0.3333333333333333,
              "#9c179e"
             ],
             [
              0.4444444444444444,
              "#bd3786"
             ],
             [
              0.5555555555555556,
              "#d8576b"
             ],
             [
              0.6666666666666666,
              "#ed7953"
             ],
             [
              0.7777777777777778,
              "#fb9f3a"
             ],
             [
              0.8888888888888888,
              "#fdca26"
             ],
             [
              1,
              "#f0f921"
             ]
            ]
           }
          ],
          "contourcarpet":[
           {
            "type":"contourcarpet",
            "colorbar":{
             "outlinewidth":0,
             "ticks":""
            }
           }
          ],
          "contour":[
           {
            "type":"contour",
            "colorbar":{
             "outlinewidth":0,
             "ticks":""
            },
            "colorscale":[
             [
              0,
              "#0d0887"
             ],
             [
              0.1111111111111111,
              "#46039f"
             ],
             [
              0.2222222222222222,
              "#7201a8"
             ],
             [
              0.3333333333333333,
              "#9c179e"
             ],
             [
              0.4444444444444444,
              "#bd3786"
             ],
             [
              0.5555555555555556,
              "#d8576b"
             ],
             [
              0.6666666666666666,
              "#ed7953"
             ],
             [
              0.7777777777777778,
              "#fb9f3a"
             ],
             [
              0.8888888888888888,
              "#fdca26"
             ],
             [
              1,
              "#f0f921"
             ]
            ]
           }
          ],
          "surface":[
           {
            "type":"surface",
            "colorbar":{
             "outlinewidth":0,
             "ticks":""
            },
            "colorscale":[
             [
              0,
              "#0d0887"
             ],
             [
              0.1111111111111111,
              "#46039f"
             ],
             [
              0.2222222222222222,
              "#7201a8"
             ],
             [
              0.3333333333333333,
              "#9c179e"
             ],
             [
              0.4444444444444444,
              "#bd3786"
             ],
             [
              0.5555555555555556,
              "#d8576b"
             ],
             [
              0.6666666666666666,
              "#ed7953"
             ],
             [
              0.7777777777777778,
              "#fb9f3a"
             ],
             [
              0.8888888888888888,
              "#fdca26"
             ],
             [
              1,
              "#f0f921"
             ]
            ]
           }
          ],
          "mesh3d":[
           {
            "type":"mesh3d",
            "colorbar":{
             "outlinewidth":0,
             "ticks":""
            }
           }
          ],
          "scatter":[
           {
            "fillpattern":{
             "fillmode":"overlay",
             "size":10,
             "solidity":0.2
            },
            "type":"scatter"
           }
          ],
          "parcoords":[
           {
            "type":"parcoords",
            "line":{
             "colorbar":{
              "outlinewidth":0,
              "ticks":""
             }
            }
           }
          ],
          "scatterpolargl":[
           {
            "type":"scatterpolargl",
            "marker":{
             "colorbar":{
              "outlinewidth":0,
              "ticks":""
             }
            }
           }
          ],
          "bar":[
           {
            "error_x":{
             "color":"#2a3f5f"
            },
            "error_y":{
             "color":"#2a3f5f"
            },
            "marker":{
             "line":{
              "color":"#E5ECF6",
              "width":0.5
             },
             "pattern":{
              "fillmode":"overlay",
              "size":10,
              "solidity":0.2
             }
            },
            "type":"bar"
           }
          ],
          "scattergeo":[
           {
            "type":"scattergeo",
            "marker":{
             "colorbar":{
              "outlinewidth":0,
              "ticks":""
             }
            }
           }
          ],
          "scatterpolar":[
           {
            "type":"scatterpolar",
            "marker":{
             "colorbar":{
              "outlinewidth":0,
              "ticks":""
             }
            }
           }
          ],
          "histogram":[
           {
            "marker":{
             "pattern":{
              "fillmode":"overlay",
              "size":10,
              "solidity":0.2
             }
            },
            "type":"histogram"
           }
          ],
          "scattergl":[
           {
            "type":"scattergl",
            "marker":{
             "colorbar":{
              "outlinewidth":0,
              "ticks":""
             }
            }
           }
          ],
          "scatter3d":[
           {
            "type":"scatter3d",
            "line":{
             "colorbar":{
              "outlinewidth":0,
              "ticks":""
             }
            },
            "marker":{
             "colorbar":{
              "outlinewidth":0,
              "ticks":""
             }
            }
           }
          ],
          "scattermapbox":[
           {
            "type":"scattermapbox",
            "marker":{
             "colorbar":{
              "outlinewidth":0,
              "ticks":""
             }
            }
           }
          ],
          "scatterternary":[
           {
            "type":"scatterternary",
            "marker":{
             "colorbar":{
              "outlinewidth":0,
              "ticks":""
             }
            }
           }
          ],
          "scattercarpet":[
           {
            "type":"scattercarpet",
            "marker":{
             "colorbar":{
              "outlinewidth":0,
              "ticks":""
             }
            }
           }
          ],
          "carpet":[
           {
            "aaxis":{
             "endlinecolor":"#2a3f5f",
             "gridcolor":"white",
             "linecolor":"white",
             "minorgridcolor":"white",
             "startlinecolor":"#2a3f5f"
            },
            "baxis":{
             "endlinecolor":"#2a3f5f",
             "gridcolor":"white",
             "linecolor":"white",
             "minorgridcolor":"white",
             "startlinecolor":"#2a3f5f"
            },
            "type":"carpet"
           }
          ],
          "table":[
           {
            "cells":{
             "fill":{
              "color":"#EBF0F8"
             },
             "line":{
              "color":"white"
             }
            },
            "header":{
             "fill":{
              "color":"#C8D4E3"
             },
             "line":{
              "color":"white"
             }
            },
            "type":"table"
           }
          ],
          "barpolar":[
           {
            "marker":{
             "line":{
              "color":"#E5ECF6",
              "width":0.5
             },
             "pattern":{
              "fillmode":"overlay",
              "size":10,
              "solidity":0.2
             }
            },
            "type":"barpolar"
           }
          ],
          "pie":[
           {
            "automargin":true,
            "type":"pie"
           }
          ]
         },
         "layout":{
          "autotypenumbers":"strict",
          "colorway":[
           "#636efa",
           "#EF553B",
           "#00cc96",
           "#ab63fa",
           "#FFA15A",
           "#19d3f3",
           "#FF6692",
           "#B6E880",
           "#FF97FF",
           "#FECB52"
          ],
          "font":{
           "color":"#2a3f5f"
          },
          "hovermode":"closest",
          "hoverlabel":{
           "align":"left"
          },
          "paper_bgcolor":"white",
          "plot_bgcolor":"#E5ECF6",
          "polar":{
           "bgcolor":"#E5ECF6",
           "angularaxis":{
            "gridcolor":"white",
            "linecolor":"white",
            "ticks":""
           },
           "radialaxis":{
            "gridcolor":"white",
            "linecolor":"white",
            "ticks":""
           }
          },
          "ternary":{
           "bgcolor":"#E5ECF6",
           "aaxis":{
            "gridcolor":"white",
            "linecolor":"white",
            "ticks":""
           },
           "baxis":{
            "gridcolor":"white",
            "linecolor":"white",
            "ticks":""
           },
           "caxis":{
            "gridcolor":"white",
            "linecolor":"white",
            "ticks":""
           }
          },
          "coloraxis":{
           "colorbar":{
            "outlinewidth":0,
            "ticks":""
           }
          },
          "colorscale":{
           "sequential":[
            [
             0,
             "#0d0887"
            ],
            [
             0.1111111111111111,
             "#46039f"
            ],
            [
             0.2222222222222222,
             "#7201a8"
            ],
            [
             0.3333333333333333,
             "#9c179e"
            ],
            [
             0.4444444444444444,
             "#bd3786"
            ],
            [
             0.5555555555555556,
             "#d8576b"
            ],
            [
             0.6666666666666666,
             "#ed7953"
            ],
            [
             0.7777777777777778,
             "#fb9f3a"
            ],
            [
             0.8888888888888888,
             "#fdca26"
            ],
            [
             1,
             "#f0f921"
            ]
           ],
           "sequentialminus":[
            [
             0,
             "#0d0887"
            ],
            [
             0.1111111111111111,
             "#46039f"
            ],
            [
             0.2222222222222222,
             "#7201a8"
            ],
            [
             0.3333333333333333,
             "#9c179e"
            ],
            [
             0.4444444444444444,
             "#bd3786"
            ],
            [
             0.5555555555555556,
             "#d8576b"
            ],
            [
             0.6666666666666666,
             "#ed7953"
            ],
            [
             0.7777777777777778,
             "#fb9f3a"
            ],
            [
             0.8888888888888888,
             "#fdca26"
            ],
            [
             1,
             "#f0f921"
            ]
           ],
           "diverging":[
            [
             0,
             "#8e0152"
            ],
            [
             0.1,
             "#c51b7d"
            ],
            [
             0.2,
             "#de77ae"
            ],
            [
             0.3,
             "#f1b6da"
            ],
            [
             0.4,
             "#fde0ef"
            ],
            [
             0.5,
             "#f7f7f7"
            ],
            [
             0.6,
             "#e6f5d0"
            ],
            [
             0.7,
             "#b8e186"
            ],
            [
             0.8,
             "#7fbc41"
            ],
            [
             0.9,
             "#4d9221"
            ],
            [
             1,
             "#276419"
            ]
           ]
          },
          "xaxis":{
           "gridcolor":"white",
           "linecolor":"white",
           "ticks":"",
           "title":{
            "standoff":15
           },
           "zerolinecolor":"white",
           "automargin":true,
           "zerolinewidth":2
          },
          "yaxis":{
           "gridcolor":"white",
           "linecolor":"white",
           "ticks":"",
           "title":{
            "standoff":15
           },
           "zerolinecolor":"white",
           "automargin":true,
           "zerolinewidth":2
          },
          "scene":{
           "xaxis":{
            "backgroundcolor":"#E5ECF6",
            "gridcolor":"white",
            "linecolor":"white",
            "showbackground":true,
            "ticks":"",
            "zerolinecolor":"white",
            "gridwidth":2
           },
           "yaxis":{
            "backgroundcolor":"#E5ECF6",
            "gridcolor":"white",
            "linecolor":"white",
            "showbackground":true,
            "ticks":"",
            "zerolinecolor":"white",
            "gridwidth":2
           },
           "zaxis":{
            "backgroundcolor":"#E5ECF6",
            "gridcolor":"white",
            "linecolor":"white",
            "showbackground":true,
            "ticks":"",
            "zerolinecolor":"white",
            "gridwidth":2
           }
          },
          "shapedefaults":{
           "line":{
            "color":"#2a3f5f"
           }
          },
          "annotationdefaults":{
           "arrowcolor":"#2a3f5f",
           "arrowhead":0,
           "arrowwidth":1
          },
          "geo":{
           "bgcolor":"white",
           "landcolor":"#E5ECF6",
           "subunitcolor":"white",
           "showland":true,
           "showlakes":true,
           "lakecolor":"white"
          },
          "title":{
           "x":0.05
          },
          "mapbox":{
           "style":"light"
          }
         }
        },
        "geo":{
         "domain":{
          "x":[
           0,
           1
          ],
          "y":[
           0,
           1
          ]
         },
         "center":{
          
         }
        },
        "coloraxis":{
         "colorbar":{
          "title":{
           "text":"Cluster"
          }
         },
         "colorscale":[
          [
           0,
           "rgb(253, 237, 176)"
          ],
          [
           0.09090909090909091,
           "rgb(250, 205, 145)"
          ],
          [
           0.18181818181818182,
           "rgb(246, 173, 119)"
          ],
          [
           0.2727272727272727,
           "rgb(240, 142, 98)"
          ],
          [
           0.36363636363636365,
           "rgb(231, 109, 84)"
          ],
          [
           0.45454545454545453,
           "rgb(216, 80, 83)"
          ],
          [
           0.5454545454545454,
           "rgb(195, 56, 90)"
          ],
          [
           0.6363636363636364,
           "rgb(168, 40, 96)"
          ],
          [
           0.7272727272727273,
           "rgb(138, 29, 99)"
          ],
          [
           0.8181818181818182,
           "rgb(107, 24, 93)"
          ],
          [
           0.9090909090909091,
           "rgb(76, 21, 80)"
          ],
          [
           1,
           "rgb(47, 15, 61)"
          ]
         ]
        },
        "legend":{
         "tracegroupgap":0
        },
        "title":{
         "text":"Clusters"
        }
       },
       "config":{
        "plotlyServerURL":"https:\/\/plot.ly"
       }
      }
     },
     "metadata":{
      
     },
     "output_type":"display_data"
    },
    {
     "data":{
      "text\/plain":[
       "<Figure size 864x432 with 0 Axes>"
      ]
     },
     "metadata":{
      
     },
     "output_type":"display_data"
    }
   ],
   "metadata":{
    "datalore":{
     "node_id":"LOGaFiJZnOCiHU977SEv67",
     "type":"CODE",
     "hide_input_from_viewers":true,
     "hide_output_from_viewers":true
    }
   }
  },
  {
   "cell_type":"markdown",
   "source":[
    "**TASK: Let's put you in the real world! Your boss just asked you to plot out these clusters on a country level choropleth map, can you figure out how to do this? We won't step by step guide you at all on this, just show you an example result. You'll need to do the following:**\n",
    "\n",
    "1. Figure out how to install plotly library: https:\/\/plotly.com\/python\/getting-started\/\n",
    "\n",
    "2. Figure out how to create a geographical choropleth map using plotly: https:\/\/plotly.com\/python\/choropleth-maps\/#using-builtin-country-and-state-geometries\n",
    "\n",
    "3. You will need ISO Codes for this. Either use the wikipedia page, or use our provided file for this: **\"..\/DATA\/country_iso_codes.csv\"**\n",
    "\n",
    "4. Combine the cluster labels, ISO Codes, and Country Names to create a world map plot with plotly given what you learned in Step 1 and Step 2.\n",
    "\n",
    "\n",
    "**Note: This is meant to be a more realistic project, where you have a clear objective of what you need to create and accomplish and the necessary online documentation. It's up to you to piece everything together to figure it out! If you get stuck, no worries! Check out the solution lecture.**\n"
   ],
   "attachments":{
    
   },
   "metadata":{
    "datalore":{
     "node_id":"MS6v7GVMgVs0D0yCQWHg34",
     "type":"MD",
     "hide_input_from_viewers":false,
     "hide_output_from_viewers":false,
     "report_properties":{
      "rowId":"H1p4Z3BRAUtZvMltWMca9i"
     }
    }
   }
  }
 ],
 "metadata":{
  "kernelspec":{
   "display_name":"Python",
   "language":"python",
   "name":"python"
  },
  "datalore":{
   "computation_mode":"JUPYTER",
   "package_manager":"pip",
   "base_environment":"default",
   "packages":[
    
   ],
   "report_row_ids":[
    "y4IkLxfaHCtawfjjgaH7q8",
    "H6voWlHNlYqRrXLBla8xDp",
    "f1Iobq12lg6X1FqDgVDMO1",
    "19lnTCgto6Uq6ysWYPlngi",
    "GCZUAICi8paqCuCh0uukWB",
    "etrVndv8aIoa0WHY9ixH23",
    "uHhFCbK7jM1u74qhTqXIje",
    "AOxsjWGt2ml9MukNVFaRbD",
    "HN3ILrv1f4InCg8IMzmu3q",
    "225DUz2GfcoMm7Np6xUYF0",
    "caLHEHpUSXiTOm9rxMVqYP",
    "13lJhyU4sbuYrucVfB9Zx3",
    "VZmtad2QePrYsPr1JQO1iB",
    "1JSWLg8d4wfn7Z0Dcz5ima",
    "qqJX4KbZeoCQfpEWCNBh0y",
    "yUOIz0G0nhq1YNyyABCwys",
    "gz8VJpXTcbdRnDUHl5OI8k",
    "eeLYCgfd1MRcaPVVccESgW",
    "ftHU8d0C0nNfSBz2qF4xm3",
    "dMWOWRGxsQPDzpMiUPg9M9",
    "oCDvU3Ht0nV3ehHeK4Nyyl",
    "WXOJO5MKJotzANUI5XUfaS",
    "kOMrKxmm8FQvfszhDRV5DT",
    "0iys7uZ4Sn5w4Ej6f5TPos",
    "BfHSPHmz7TkaN7CddHcmKF",
    "FI0lBV77PcRSV6byMMIGOL",
    "tf4tnLpLs4R2GplBZBxSq9",
    "tSM2W8FfZ6OzdQjGU5My2R",
    "37T1s3YNt9xxLVTzjsFGG4",
    "oMShV1rWVp9BbI4i8M5wQU",
    "cBfP65OqvQfZil5Txc11pk",
    "P8dNaOTYOTcI3pMHxfxC3g",
    "O54s4labrLjqERFkCkEYgq",
    "3ojUbAmR7kzTQop0kdm2qV",
    "h0cL54ftS6Jtnh1RF1NXOL",
    "KMeJ4tGXemTiu2c3VRezse",
    "KHHjzszZNx1FqNPAQqvyv1",
    "ZXHogu91XoYu8saHE2Mqa6",
    "kU767ZqsVUhSA36OD9zLYR",
    "EGbVRo9UfBw65h0DaOuEkA",
    "Oa8hF0AuWQeOCClCwDQyuf",
    "Ktgp9KIJsEalSlbQV8FSqh",
    "mXFl6177BxrWAt4rnZT5ZU",
    "19a7IZrU2r5lIjJN9NbadO",
    "Sfj6warAt30j3J6p1uFi6E",
    "3YV7bOYlUhtYmMI2Gcildm",
    "l6GvvQ0jkt6iFwHIrXA9QD",
    "MKB4amM8SN7piZTQRfTzNv",
    "mH5EEsAnjZxrkXw1oNAu0n",
    "ADd1J55oeYIGbmhmM5amJy",
    "LqcTUzw7udQNHrtytaxrJa",
    "qi19QwXK7U0SvwwI8W1EVi",
    "dkd6spALVvbga35gQfNzkx",
    "BEqv1HXJPiGeXtnQejkOkg",
    "81Hvmwg6I7uDaNrWDHdzEi",
    "yqEyo7QVhp5rUdCzDgrjFG",
    "2eBRIVkKBYayafqgSlFCl2",
    "5rraIBBkUcdeV4vxolhN9i",
    "LE80CIoL6zdTW5VXRWXaMW",
    "2zAVOQakEPyI4Wqe556tBV",
    "GFYKIhPceQS7MOSlBZiNuD",
    "YBKt0IKyFKTmgPmk4pF6gE",
    "PAy6itK3kVfwn9RHoQjER2",
    "pX7KF8vdG2Z5uUk3Y8Gebm",
    "e5g6IsXpPKknEByrx8AlpO",
    "VyB2Xx4R8jf4gjsF5psvOr",
    "1273NfEWkZ6WnDQA41LrjJ",
    "5KkWOkP2AQbk81bAvARkHE",
    "maGamNQJECdSVUL25QuURA",
    "jyR2fNihdY7JYRRTe67sDL",
    "p5oSGuskotlTlY4cviLChu",
    "Pwu2tdOMyZLkCle5N9GHcT",
    "7xrFVNfJvM5YVBn9s3SxNK",
    "6UrpssNkHLN7xJSzTGwZNu",
    "xTsCBzS1ctLUIckb7w6ZcF",
    "RtQY7pQBBrqU2qAb7fzJwo",
    "8ELQ03B62Rm9VfzfvV7dro",
    "7p9jz0DH2Zzd55FNyHKfli",
    "gVBf8PtT8yrMtiqM2wFRgO",
    "kmZqAi6CwqfIG2ZAVQu6pT",
    "H1p4Z3BRAUtZvMltWMca9i",
    "vlY77f95pxNkRi0XaZj8Vw",
    "wMODIJqLmUAh1L4qoRMDzv",
    "BJqGsapdv0mtuc5AwFd7V2",
    "G53ckU8nc5CdwnimfYY2YU"
   ],
   "version":3
  }
 },
 "nbformat":4,
 "nbformat_minor":4
}